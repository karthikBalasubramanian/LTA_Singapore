{
 "cells": [
  {
   "cell_type": "code",
   "execution_count": 1,
   "metadata": {
    "collapsed": true
   },
   "outputs": [],
   "source": [
    "import os\n",
    "import shutil\n",
    "import glob\n",
    "import time as ts\n",
    "import imageio\n",
    "from resizeimage import resizeimage\n",
    "from PIL import Image\n",
    "from PIL import ImageFont\n",
    "from PIL import ImageDraw "
   ]
  },
  {
   "cell_type": "code",
   "execution_count": 12,
   "metadata": {
    "collapsed": false
   },
   "outputs": [],
   "source": [
    "def get_bus_and_taxi_file(file_list,bus_like, taxi_like,bus_mask_index):\n",
    "    bus_filenames = [i for i in filenames if bus_like in i]\n",
    "    taxi_filenames = [i for i in filenames if taxi_like in i]\n",
    "    # keep only files between 14 and 19\n",
    "    # first remove files containing 9 in bus\n",
    "    # then convert keep files only between 14 and 19\n",
    "    \n",
    "    bus_filenames = [i for i in bus_filenames if i[bus_mask_index:bus_mask_index+2]!= '9_']\n",
    "    bus_filenames =  [i for i in bus_filenames if  int(i[bus_mask_index:bus_mask_index+2]) >=14 and  int(i[bus_mask_index:bus_mask_index+2])<=19 ]\n",
    "    \n",
    "    bus_filenames.sort()\n",
    "    taxi_filenames.sort()\n",
    "    \n",
    "    return bus_filenames,taxi_filenames"
   ]
  },
  {
   "cell_type": "code",
   "execution_count": 13,
   "metadata": {
    "collapsed": false
   },
   "outputs": [],
   "source": [
    "def resize_files(file_list,new_kde_path, new_height, new_width):\n",
    "    for i in file_list:\n",
    "        im = Image.open(i)\n",
    "        im_1 = im.resize((new_height,new_width))\n",
    "        file_name = i.rfind(\"/\")+1\n",
    "        fn =  new_kde_path+i[file_name:]\n",
    "        im_1.save(fn)"
   ]
  },
  {
   "cell_type": "code",
   "execution_count": 14,
   "metadata": {
    "collapsed": true
   },
   "outputs": [],
   "source": [
    "font = ImageFont.truetype(\"./notomono-regular.ttf\", 32)\n",
    "\n",
    "def write_on_image(file_list,new_kde_path,date_index,file_stamp_index):\n",
    "    \n",
    "    file_list.sort()\n",
    "    \n",
    "    for index,i in enumerate(file_list):\n",
    "        date_and_time =  i[date_index:]\n",
    "        date_and_time =  date_and_time.split(\"_\")\n",
    "        date = \"03/\"+date_and_time[0]+\"/2017\"\n",
    "        time =  date_and_time[1][:2]+\":\"+date_and_time[1][2:4]+\" hrs\"\n",
    "        time_stamp = date+\" \"+time\n",
    "        img = Image.open(i)\n",
    "        draw = ImageDraw.Draw(img)\n",
    "        draw.text((0, 0),time_stamp,(255),font=font)\n",
    "        img.save(new_kde_path+i[file_stamp_index:])\n",
    "        ts.sleep(0.2)"
   ]
  },
  {
   "cell_type": "code",
   "execution_count": null,
   "metadata": {
    "collapsed": true
   },
   "outputs": [],
   "source": []
  },
  {
   "cell_type": "code",
   "execution_count": 5,
   "metadata": {
    "collapsed": true
   },
   "outputs": [],
   "source": [
    "def write_to_gif(file_list,gif_path):\n",
    "    \n",
    "    with imageio.get_writer(gif_path, mode='I') as writer:\n",
    "        for filename in file_list:\n",
    "            image = imageio.imread(filename)\n",
    "            writer.append_data(image)"
   ]
  },
  {
   "cell_type": "code",
   "execution_count": 15,
   "metadata": {
    "collapsed": true
   },
   "outputs": [],
   "source": [
    "filenames =  glob.glob(\"../kde/*\")"
   ]
  },
  {
   "cell_type": "code",
   "execution_count": 7,
   "metadata": {
    "collapsed": false
   },
   "outputs": [],
   "source": [
    "bus_filenames,taxi_filenames =  get_bus_and_taxi_file(filenames,\"../kde/bus\",\"../kde/taxi\",11)"
   ]
  },
  {
   "cell_type": "code",
   "execution_count": 8,
   "metadata": {
    "collapsed": false
   },
   "outputs": [],
   "source": [
    "resize_files(bus_filenames,\"../kde_500_final/bus/\",952,538)"
   ]
  },
  {
   "cell_type": "code",
   "execution_count": 9,
   "metadata": {
    "collapsed": true
   },
   "outputs": [],
   "source": [
    "resize_files(taxi_filenames,\"../kde_500_final/taxi/\",952,538)"
   ]
  },
  {
   "cell_type": "code",
   "execution_count": 10,
   "metadata": {
    "collapsed": true
   },
   "outputs": [],
   "source": [
    "bus_filenames = glob.glob(\"../kde_500_final/bus/*\")\n",
    "taxi_filenames = glob.glob(\"../kde_500_final/taxi/*\")"
   ]
  },
  {
   "cell_type": "code",
   "execution_count": 11,
   "metadata": {
    "collapsed": false
   },
   "outputs": [
    {
     "data": {
      "text/plain": [
       "'bus_15_2330.jpg'"
      ]
     },
     "execution_count": 11,
     "metadata": {},
     "output_type": "execute_result"
    }
   ],
   "source": [
    "bus_filenames[0][21:]"
   ]
  },
  {
   "cell_type": "code",
   "execution_count": 12,
   "metadata": {
    "collapsed": false
   },
   "outputs": [],
   "source": [
    "write_on_image(bus_filenames,\"../kde_500_final/bus_time/\",25,21)"
   ]
  },
  {
   "cell_type": "code",
   "execution_count": null,
   "metadata": {
    "collapsed": false
   },
   "outputs": [],
   "source": [
    "write_on_image(taxi_filenames,\"../kde_500_final/taxi_time/\",27,22)"
   ]
  },
  {
   "cell_type": "code",
   "execution_count": 13,
   "metadata": {
    "collapsed": true
   },
   "outputs": [],
   "source": [
    "bus_filenames = glob.glob(\"../kde_500_final/bus_time/*\")"
   ]
  },
  {
   "cell_type": "code",
   "execution_count": null,
   "metadata": {
    "collapsed": true
   },
   "outputs": [],
   "source": [
    "taxi_filenames = glob.glob(\"../kde_500_final/taxi_time/*\")"
   ]
  },
  {
   "cell_type": "code",
   "execution_count": 14,
   "metadata": {
    "collapsed": true
   },
   "outputs": [],
   "source": [
    "bus_filenames.sort()\n",
    "# taxi_filenames.sort()"
   ]
  },
  {
   "cell_type": "code",
   "execution_count": 15,
   "metadata": {
    "collapsed": false
   },
   "outputs": [],
   "source": [
    "def everyday_file_dict(file_list,date_start):\n",
    "    day_dict = {}\n",
    "    for i in file_list:\n",
    "        day = int(i[date_start:date_start+2])\n",
    "        if(day in day_dict):\n",
    "            day_dict[day].append(i)\n",
    "        else:\n",
    "            day_dict[day] = [i]\n",
    "    return day_dict"
   ]
  },
  {
   "cell_type": "code",
   "execution_count": 16,
   "metadata": {
    "collapsed": false
   },
   "outputs": [],
   "source": [
    "day_bus_files =  everyday_file_dict(bus_filenames,30)"
   ]
  },
  {
   "cell_type": "code",
   "execution_count": 17,
   "metadata": {
    "collapsed": false
   },
   "outputs": [
    {
     "data": {
      "text/plain": [
       "{14: ['../kde_500_final/bus_time/bus_14_0145.jpg',\n",
       "  '../kde_500_final/bus_time/bus_14_0800.jpg',\n",
       "  '../kde_500_final/bus_time/bus_14_0815.jpg',\n",
       "  '../kde_500_final/bus_time/bus_14_0830.jpg',\n",
       "  '../kde_500_final/bus_time/bus_14_0845.jpg',\n",
       "  '../kde_500_final/bus_time/bus_14_0900.jpg',\n",
       "  '../kde_500_final/bus_time/bus_14_0915.jpg',\n",
       "  '../kde_500_final/bus_time/bus_14_0930.jpg',\n",
       "  '../kde_500_final/bus_time/bus_14_0945.jpg',\n",
       "  '../kde_500_final/bus_time/bus_14_1000.jpg',\n",
       "  '../kde_500_final/bus_time/bus_14_1015.jpg',\n",
       "  '../kde_500_final/bus_time/bus_14_1030.jpg',\n",
       "  '../kde_500_final/bus_time/bus_14_1045.jpg',\n",
       "  '../kde_500_final/bus_time/bus_14_1100.jpg',\n",
       "  '../kde_500_final/bus_time/bus_14_1115.jpg',\n",
       "  '../kde_500_final/bus_time/bus_14_1130.jpg',\n",
       "  '../kde_500_final/bus_time/bus_14_1145.jpg',\n",
       "  '../kde_500_final/bus_time/bus_14_1200.jpg',\n",
       "  '../kde_500_final/bus_time/bus_14_1215.jpg',\n",
       "  '../kde_500_final/bus_time/bus_14_1230.jpg',\n",
       "  '../kde_500_final/bus_time/bus_14_1245.jpg',\n",
       "  '../kde_500_final/bus_time/bus_14_1300.jpg',\n",
       "  '../kde_500_final/bus_time/bus_14_1315.jpg',\n",
       "  '../kde_500_final/bus_time/bus_14_1330.jpg',\n",
       "  '../kde_500_final/bus_time/bus_14_1345.jpg',\n",
       "  '../kde_500_final/bus_time/bus_14_1400.jpg',\n",
       "  '../kde_500_final/bus_time/bus_14_1415.jpg',\n",
       "  '../kde_500_final/bus_time/bus_14_1430.jpg',\n",
       "  '../kde_500_final/bus_time/bus_14_1445.jpg',\n",
       "  '../kde_500_final/bus_time/bus_14_1500.jpg',\n",
       "  '../kde_500_final/bus_time/bus_14_1515.jpg',\n",
       "  '../kde_500_final/bus_time/bus_14_1530.jpg',\n",
       "  '../kde_500_final/bus_time/bus_14_1545.jpg',\n",
       "  '../kde_500_final/bus_time/bus_14_1600.jpg',\n",
       "  '../kde_500_final/bus_time/bus_14_1615.jpg',\n",
       "  '../kde_500_final/bus_time/bus_14_1630.jpg',\n",
       "  '../kde_500_final/bus_time/bus_14_1645.jpg',\n",
       "  '../kde_500_final/bus_time/bus_14_1700.jpg',\n",
       "  '../kde_500_final/bus_time/bus_14_1715.jpg',\n",
       "  '../kde_500_final/bus_time/bus_14_1730.jpg',\n",
       "  '../kde_500_final/bus_time/bus_14_1745.jpg',\n",
       "  '../kde_500_final/bus_time/bus_14_1800.jpg',\n",
       "  '../kde_500_final/bus_time/bus_14_1815.jpg',\n",
       "  '../kde_500_final/bus_time/bus_14_1830.jpg',\n",
       "  '../kde_500_final/bus_time/bus_14_1845.jpg',\n",
       "  '../kde_500_final/bus_time/bus_14_1900.jpg',\n",
       "  '../kde_500_final/bus_time/bus_14_1915.jpg',\n",
       "  '../kde_500_final/bus_time/bus_14_1930.jpg',\n",
       "  '../kde_500_final/bus_time/bus_14_1945.jpg',\n",
       "  '../kde_500_final/bus_time/bus_14_2000.jpg',\n",
       "  '../kde_500_final/bus_time/bus_14_2015.jpg',\n",
       "  '../kde_500_final/bus_time/bus_14_2030.jpg',\n",
       "  '../kde_500_final/bus_time/bus_14_2045.jpg',\n",
       "  '../kde_500_final/bus_time/bus_14_2100.jpg',\n",
       "  '../kde_500_final/bus_time/bus_14_2115.jpg',\n",
       "  '../kde_500_final/bus_time/bus_14_2130.jpg',\n",
       "  '../kde_500_final/bus_time/bus_14_2145.jpg',\n",
       "  '../kde_500_final/bus_time/bus_14_2200.jpg',\n",
       "  '../kde_500_final/bus_time/bus_14_2215.jpg',\n",
       "  '../kde_500_final/bus_time/bus_14_2230.jpg',\n",
       "  '../kde_500_final/bus_time/bus_14_2245.jpg',\n",
       "  '../kde_500_final/bus_time/bus_14_2300.jpg',\n",
       "  '../kde_500_final/bus_time/bus_14_2330.jpg',\n",
       "  '../kde_500_final/bus_time/bus_14_2345.jpg'],\n",
       " 15: ['../kde_500_final/bus_time/bus_15_0000.jpg',\n",
       "  '../kde_500_final/bus_time/bus_15_0015.jpg',\n",
       "  '../kde_500_final/bus_time/bus_15_0030.jpg',\n",
       "  '../kde_500_final/bus_time/bus_15_0045.jpg',\n",
       "  '../kde_500_final/bus_time/bus_15_0115.jpg',\n",
       "  '../kde_500_final/bus_time/bus_15_0130.jpg',\n",
       "  '../kde_500_final/bus_time/bus_15_0430.jpg',\n",
       "  '../kde_500_final/bus_time/bus_15_0445.jpg',\n",
       "  '../kde_500_final/bus_time/bus_15_0500.jpg',\n",
       "  '../kde_500_final/bus_time/bus_15_0515.jpg',\n",
       "  '../kde_500_final/bus_time/bus_15_0530.jpg',\n",
       "  '../kde_500_final/bus_time/bus_15_0545.jpg',\n",
       "  '../kde_500_final/bus_time/bus_15_0600.jpg',\n",
       "  '../kde_500_final/bus_time/bus_15_0615.jpg',\n",
       "  '../kde_500_final/bus_time/bus_15_0630.jpg',\n",
       "  '../kde_500_final/bus_time/bus_15_0645.jpg',\n",
       "  '../kde_500_final/bus_time/bus_15_0700.jpg',\n",
       "  '../kde_500_final/bus_time/bus_15_0715.jpg',\n",
       "  '../kde_500_final/bus_time/bus_15_0730.jpg',\n",
       "  '../kde_500_final/bus_time/bus_15_0745.jpg',\n",
       "  '../kde_500_final/bus_time/bus_15_0800.jpg',\n",
       "  '../kde_500_final/bus_time/bus_15_0815.jpg',\n",
       "  '../kde_500_final/bus_time/bus_15_0830.jpg',\n",
       "  '../kde_500_final/bus_time/bus_15_0845.jpg',\n",
       "  '../kde_500_final/bus_time/bus_15_0900.jpg',\n",
       "  '../kde_500_final/bus_time/bus_15_0915.jpg',\n",
       "  '../kde_500_final/bus_time/bus_15_0930.jpg',\n",
       "  '../kde_500_final/bus_time/bus_15_0945.jpg',\n",
       "  '../kde_500_final/bus_time/bus_15_1000.jpg',\n",
       "  '../kde_500_final/bus_time/bus_15_1015.jpg',\n",
       "  '../kde_500_final/bus_time/bus_15_1030.jpg',\n",
       "  '../kde_500_final/bus_time/bus_15_1045.jpg',\n",
       "  '../kde_500_final/bus_time/bus_15_1100.jpg',\n",
       "  '../kde_500_final/bus_time/bus_15_1115.jpg',\n",
       "  '../kde_500_final/bus_time/bus_15_1130.jpg',\n",
       "  '../kde_500_final/bus_time/bus_15_1145.jpg',\n",
       "  '../kde_500_final/bus_time/bus_15_1200.jpg',\n",
       "  '../kde_500_final/bus_time/bus_15_1215.jpg',\n",
       "  '../kde_500_final/bus_time/bus_15_1230.jpg',\n",
       "  '../kde_500_final/bus_time/bus_15_1245.jpg',\n",
       "  '../kde_500_final/bus_time/bus_15_1300.jpg',\n",
       "  '../kde_500_final/bus_time/bus_15_1315.jpg',\n",
       "  '../kde_500_final/bus_time/bus_15_1330.jpg',\n",
       "  '../kde_500_final/bus_time/bus_15_1345.jpg',\n",
       "  '../kde_500_final/bus_time/bus_15_1400.jpg',\n",
       "  '../kde_500_final/bus_time/bus_15_1415.jpg',\n",
       "  '../kde_500_final/bus_time/bus_15_1430.jpg',\n",
       "  '../kde_500_final/bus_time/bus_15_1445.jpg',\n",
       "  '../kde_500_final/bus_time/bus_15_1500.jpg',\n",
       "  '../kde_500_final/bus_time/bus_15_1515.jpg',\n",
       "  '../kde_500_final/bus_time/bus_15_1530.jpg',\n",
       "  '../kde_500_final/bus_time/bus_15_1545.jpg',\n",
       "  '../kde_500_final/bus_time/bus_15_1600.jpg',\n",
       "  '../kde_500_final/bus_time/bus_15_1615.jpg',\n",
       "  '../kde_500_final/bus_time/bus_15_1630.jpg',\n",
       "  '../kde_500_final/bus_time/bus_15_1645.jpg',\n",
       "  '../kde_500_final/bus_time/bus_15_1700.jpg',\n",
       "  '../kde_500_final/bus_time/bus_15_1715.jpg',\n",
       "  '../kde_500_final/bus_time/bus_15_1730.jpg',\n",
       "  '../kde_500_final/bus_time/bus_15_1745.jpg',\n",
       "  '../kde_500_final/bus_time/bus_15_1800.jpg',\n",
       "  '../kde_500_final/bus_time/bus_15_1815.jpg',\n",
       "  '../kde_500_final/bus_time/bus_15_1830.jpg',\n",
       "  '../kde_500_final/bus_time/bus_15_1845.jpg',\n",
       "  '../kde_500_final/bus_time/bus_15_1900.jpg',\n",
       "  '../kde_500_final/bus_time/bus_15_1915.jpg',\n",
       "  '../kde_500_final/bus_time/bus_15_1930.jpg',\n",
       "  '../kde_500_final/bus_time/bus_15_1945.jpg',\n",
       "  '../kde_500_final/bus_time/bus_15_2000.jpg',\n",
       "  '../kde_500_final/bus_time/bus_15_2015.jpg',\n",
       "  '../kde_500_final/bus_time/bus_15_2030.jpg',\n",
       "  '../kde_500_final/bus_time/bus_15_2045.jpg',\n",
       "  '../kde_500_final/bus_time/bus_15_2100.jpg',\n",
       "  '../kde_500_final/bus_time/bus_15_2115.jpg',\n",
       "  '../kde_500_final/bus_time/bus_15_2130.jpg',\n",
       "  '../kde_500_final/bus_time/bus_15_2145.jpg',\n",
       "  '../kde_500_final/bus_time/bus_15_2200.jpg',\n",
       "  '../kde_500_final/bus_time/bus_15_2215.jpg',\n",
       "  '../kde_500_final/bus_time/bus_15_2230.jpg',\n",
       "  '../kde_500_final/bus_time/bus_15_2245.jpg',\n",
       "  '../kde_500_final/bus_time/bus_15_2300.jpg',\n",
       "  '../kde_500_final/bus_time/bus_15_2315.jpg',\n",
       "  '../kde_500_final/bus_time/bus_15_2330.jpg',\n",
       "  '../kde_500_final/bus_time/bus_15_2345.jpg'],\n",
       " 16: ['../kde_500_final/bus_time/bus_16_0000.jpg',\n",
       "  '../kde_500_final/bus_time/bus_16_0015.jpg',\n",
       "  '../kde_500_final/bus_time/bus_16_0030.jpg',\n",
       "  '../kde_500_final/bus_time/bus_16_0045.jpg',\n",
       "  '../kde_500_final/bus_time/bus_16_0115.jpg',\n",
       "  '../kde_500_final/bus_time/bus_16_0130.jpg',\n",
       "  '../kde_500_final/bus_time/bus_16_0145.jpg',\n",
       "  '../kde_500_final/bus_time/bus_16_0215.jpg',\n",
       "  '../kde_500_final/bus_time/bus_16_0230.jpg',\n",
       "  '../kde_500_final/bus_time/bus_16_0245.jpg',\n",
       "  '../kde_500_final/bus_time/bus_16_0345.jpg',\n",
       "  '../kde_500_final/bus_time/bus_16_0415.jpg',\n",
       "  '../kde_500_final/bus_time/bus_16_0430.jpg',\n",
       "  '../kde_500_final/bus_time/bus_16_0445.jpg',\n",
       "  '../kde_500_final/bus_time/bus_16_0500.jpg',\n",
       "  '../kde_500_final/bus_time/bus_16_0515.jpg',\n",
       "  '../kde_500_final/bus_time/bus_16_0530.jpg',\n",
       "  '../kde_500_final/bus_time/bus_16_0545.jpg',\n",
       "  '../kde_500_final/bus_time/bus_16_0600.jpg',\n",
       "  '../kde_500_final/bus_time/bus_16_0615.jpg',\n",
       "  '../kde_500_final/bus_time/bus_16_0630.jpg',\n",
       "  '../kde_500_final/bus_time/bus_16_0645.jpg',\n",
       "  '../kde_500_final/bus_time/bus_16_0700.jpg',\n",
       "  '../kde_500_final/bus_time/bus_16_0715.jpg',\n",
       "  '../kde_500_final/bus_time/bus_16_0730.jpg',\n",
       "  '../kde_500_final/bus_time/bus_16_0745.jpg',\n",
       "  '../kde_500_final/bus_time/bus_16_0800.jpg',\n",
       "  '../kde_500_final/bus_time/bus_16_0815.jpg',\n",
       "  '../kde_500_final/bus_time/bus_16_0830.jpg',\n",
       "  '../kde_500_final/bus_time/bus_16_0845.jpg',\n",
       "  '../kde_500_final/bus_time/bus_16_0900.jpg',\n",
       "  '../kde_500_final/bus_time/bus_16_0915.jpg',\n",
       "  '../kde_500_final/bus_time/bus_16_0930.jpg',\n",
       "  '../kde_500_final/bus_time/bus_16_0945.jpg',\n",
       "  '../kde_500_final/bus_time/bus_16_1000.jpg',\n",
       "  '../kde_500_final/bus_time/bus_16_1015.jpg',\n",
       "  '../kde_500_final/bus_time/bus_16_1030.jpg',\n",
       "  '../kde_500_final/bus_time/bus_16_1045.jpg',\n",
       "  '../kde_500_final/bus_time/bus_16_1100.jpg',\n",
       "  '../kde_500_final/bus_time/bus_16_1115.jpg',\n",
       "  '../kde_500_final/bus_time/bus_16_1130.jpg',\n",
       "  '../kde_500_final/bus_time/bus_16_1145.jpg',\n",
       "  '../kde_500_final/bus_time/bus_16_1200.jpg',\n",
       "  '../kde_500_final/bus_time/bus_16_1215.jpg',\n",
       "  '../kde_500_final/bus_time/bus_16_1230.jpg',\n",
       "  '../kde_500_final/bus_time/bus_16_1245.jpg',\n",
       "  '../kde_500_final/bus_time/bus_16_1300.jpg',\n",
       "  '../kde_500_final/bus_time/bus_16_1315.jpg',\n",
       "  '../kde_500_final/bus_time/bus_16_1330.jpg',\n",
       "  '../kde_500_final/bus_time/bus_16_1345.jpg',\n",
       "  '../kde_500_final/bus_time/bus_16_1400.jpg',\n",
       "  '../kde_500_final/bus_time/bus_16_1415.jpg',\n",
       "  '../kde_500_final/bus_time/bus_16_1430.jpg',\n",
       "  '../kde_500_final/bus_time/bus_16_1445.jpg',\n",
       "  '../kde_500_final/bus_time/bus_16_1500.jpg',\n",
       "  '../kde_500_final/bus_time/bus_16_1515.jpg',\n",
       "  '../kde_500_final/bus_time/bus_16_1530.jpg',\n",
       "  '../kde_500_final/bus_time/bus_16_1545.jpg',\n",
       "  '../kde_500_final/bus_time/bus_16_1600.jpg',\n",
       "  '../kde_500_final/bus_time/bus_16_1615.jpg',\n",
       "  '../kde_500_final/bus_time/bus_16_1630.jpg',\n",
       "  '../kde_500_final/bus_time/bus_16_1645.jpg',\n",
       "  '../kde_500_final/bus_time/bus_16_1700.jpg',\n",
       "  '../kde_500_final/bus_time/bus_16_1715.jpg',\n",
       "  '../kde_500_final/bus_time/bus_16_1730.jpg',\n",
       "  '../kde_500_final/bus_time/bus_16_1745.jpg',\n",
       "  '../kde_500_final/bus_time/bus_16_1800.jpg',\n",
       "  '../kde_500_final/bus_time/bus_16_1815.jpg',\n",
       "  '../kde_500_final/bus_time/bus_16_1830.jpg',\n",
       "  '../kde_500_final/bus_time/bus_16_1845.jpg',\n",
       "  '../kde_500_final/bus_time/bus_16_1900.jpg',\n",
       "  '../kde_500_final/bus_time/bus_16_1915.jpg',\n",
       "  '../kde_500_final/bus_time/bus_16_1930.jpg',\n",
       "  '../kde_500_final/bus_time/bus_16_1945.jpg',\n",
       "  '../kde_500_final/bus_time/bus_16_2000.jpg',\n",
       "  '../kde_500_final/bus_time/bus_16_2015.jpg',\n",
       "  '../kde_500_final/bus_time/bus_16_2030.jpg',\n",
       "  '../kde_500_final/bus_time/bus_16_2045.jpg',\n",
       "  '../kde_500_final/bus_time/bus_16_2100.jpg',\n",
       "  '../kde_500_final/bus_time/bus_16_2115.jpg',\n",
       "  '../kde_500_final/bus_time/bus_16_2130.jpg',\n",
       "  '../kde_500_final/bus_time/bus_16_2145.jpg',\n",
       "  '../kde_500_final/bus_time/bus_16_2200.jpg',\n",
       "  '../kde_500_final/bus_time/bus_16_2215.jpg',\n",
       "  '../kde_500_final/bus_time/bus_16_2230.jpg',\n",
       "  '../kde_500_final/bus_time/bus_16_2245.jpg',\n",
       "  '../kde_500_final/bus_time/bus_16_2300.jpg',\n",
       "  '../kde_500_final/bus_time/bus_16_2315.jpg',\n",
       "  '../kde_500_final/bus_time/bus_16_2330.jpg',\n",
       "  '../kde_500_final/bus_time/bus_16_2345.jpg'],\n",
       " 17: ['../kde_500_final/bus_time/bus_17_0000.jpg',\n",
       "  '../kde_500_final/bus_time/bus_17_0015.jpg',\n",
       "  '../kde_500_final/bus_time/bus_17_0030.jpg',\n",
       "  '../kde_500_final/bus_time/bus_17_0045.jpg',\n",
       "  '../kde_500_final/bus_time/bus_17_0115.jpg',\n",
       "  '../kde_500_final/bus_time/bus_17_0130.jpg',\n",
       "  '../kde_500_final/bus_time/bus_17_0145.jpg',\n",
       "  '../kde_500_final/bus_time/bus_17_0230.jpg',\n",
       "  '../kde_500_final/bus_time/bus_17_0245.jpg',\n",
       "  '../kde_500_final/bus_time/bus_17_0415.jpg',\n",
       "  '../kde_500_final/bus_time/bus_17_0430.jpg',\n",
       "  '../kde_500_final/bus_time/bus_17_0445.jpg',\n",
       "  '../kde_500_final/bus_time/bus_17_0500.jpg',\n",
       "  '../kde_500_final/bus_time/bus_17_0515.jpg',\n",
       "  '../kde_500_final/bus_time/bus_17_0530.jpg',\n",
       "  '../kde_500_final/bus_time/bus_17_0545.jpg',\n",
       "  '../kde_500_final/bus_time/bus_17_0600.jpg',\n",
       "  '../kde_500_final/bus_time/bus_17_0615.jpg',\n",
       "  '../kde_500_final/bus_time/bus_17_0630.jpg',\n",
       "  '../kde_500_final/bus_time/bus_17_0645.jpg',\n",
       "  '../kde_500_final/bus_time/bus_17_0700.jpg',\n",
       "  '../kde_500_final/bus_time/bus_17_0715.jpg',\n",
       "  '../kde_500_final/bus_time/bus_17_0730.jpg',\n",
       "  '../kde_500_final/bus_time/bus_17_0745.jpg',\n",
       "  '../kde_500_final/bus_time/bus_17_0800.jpg',\n",
       "  '../kde_500_final/bus_time/bus_17_0815.jpg',\n",
       "  '../kde_500_final/bus_time/bus_17_0830.jpg',\n",
       "  '../kde_500_final/bus_time/bus_17_0845.jpg',\n",
       "  '../kde_500_final/bus_time/bus_17_0900.jpg',\n",
       "  '../kde_500_final/bus_time/bus_17_0915.jpg',\n",
       "  '../kde_500_final/bus_time/bus_17_0930.jpg',\n",
       "  '../kde_500_final/bus_time/bus_17_0945.jpg',\n",
       "  '../kde_500_final/bus_time/bus_17_1000.jpg',\n",
       "  '../kde_500_final/bus_time/bus_17_1015.jpg',\n",
       "  '../kde_500_final/bus_time/bus_17_1030.jpg',\n",
       "  '../kde_500_final/bus_time/bus_17_1045.jpg',\n",
       "  '../kde_500_final/bus_time/bus_17_1100.jpg',\n",
       "  '../kde_500_final/bus_time/bus_17_1115.jpg',\n",
       "  '../kde_500_final/bus_time/bus_17_1130.jpg',\n",
       "  '../kde_500_final/bus_time/bus_17_1145.jpg',\n",
       "  '../kde_500_final/bus_time/bus_17_1200.jpg',\n",
       "  '../kde_500_final/bus_time/bus_17_1215.jpg',\n",
       "  '../kde_500_final/bus_time/bus_17_1230.jpg',\n",
       "  '../kde_500_final/bus_time/bus_17_1245.jpg',\n",
       "  '../kde_500_final/bus_time/bus_17_1300.jpg',\n",
       "  '../kde_500_final/bus_time/bus_17_1315.jpg',\n",
       "  '../kde_500_final/bus_time/bus_17_1330.jpg',\n",
       "  '../kde_500_final/bus_time/bus_17_1345.jpg',\n",
       "  '../kde_500_final/bus_time/bus_17_1400.jpg',\n",
       "  '../kde_500_final/bus_time/bus_17_1415.jpg',\n",
       "  '../kde_500_final/bus_time/bus_17_1430.jpg',\n",
       "  '../kde_500_final/bus_time/bus_17_1445.jpg',\n",
       "  '../kde_500_final/bus_time/bus_17_1500.jpg',\n",
       "  '../kde_500_final/bus_time/bus_17_1515.jpg',\n",
       "  '../kde_500_final/bus_time/bus_17_1530.jpg',\n",
       "  '../kde_500_final/bus_time/bus_17_1545.jpg',\n",
       "  '../kde_500_final/bus_time/bus_17_1600.jpg',\n",
       "  '../kde_500_final/bus_time/bus_17_1615.jpg',\n",
       "  '../kde_500_final/bus_time/bus_17_1630.jpg',\n",
       "  '../kde_500_final/bus_time/bus_17_1645.jpg',\n",
       "  '../kde_500_final/bus_time/bus_17_1700.jpg',\n",
       "  '../kde_500_final/bus_time/bus_17_1715.jpg',\n",
       "  '../kde_500_final/bus_time/bus_17_1730.jpg',\n",
       "  '../kde_500_final/bus_time/bus_17_1745.jpg',\n",
       "  '../kde_500_final/bus_time/bus_17_1800.jpg',\n",
       "  '../kde_500_final/bus_time/bus_17_1815.jpg',\n",
       "  '../kde_500_final/bus_time/bus_17_1830.jpg',\n",
       "  '../kde_500_final/bus_time/bus_17_1845.jpg',\n",
       "  '../kde_500_final/bus_time/bus_17_1900.jpg',\n",
       "  '../kde_500_final/bus_time/bus_17_1915.jpg',\n",
       "  '../kde_500_final/bus_time/bus_17_1930.jpg',\n",
       "  '../kde_500_final/bus_time/bus_17_1945.jpg',\n",
       "  '../kde_500_final/bus_time/bus_17_2000.jpg',\n",
       "  '../kde_500_final/bus_time/bus_17_2015.jpg',\n",
       "  '../kde_500_final/bus_time/bus_17_2030.jpg',\n",
       "  '../kde_500_final/bus_time/bus_17_2045.jpg',\n",
       "  '../kde_500_final/bus_time/bus_17_2100.jpg',\n",
       "  '../kde_500_final/bus_time/bus_17_2115.jpg',\n",
       "  '../kde_500_final/bus_time/bus_17_2130.jpg',\n",
       "  '../kde_500_final/bus_time/bus_17_2145.jpg',\n",
       "  '../kde_500_final/bus_time/bus_17_2200.jpg',\n",
       "  '../kde_500_final/bus_time/bus_17_2215.jpg',\n",
       "  '../kde_500_final/bus_time/bus_17_2230.jpg',\n",
       "  '../kde_500_final/bus_time/bus_17_2245.jpg',\n",
       "  '../kde_500_final/bus_time/bus_17_2300.jpg',\n",
       "  '../kde_500_final/bus_time/bus_17_2315.jpg',\n",
       "  '../kde_500_final/bus_time/bus_17_2330.jpg',\n",
       "  '../kde_500_final/bus_time/bus_17_2345.jpg'],\n",
       " 18: ['../kde_500_final/bus_time/bus_18_0000.jpg',\n",
       "  '../kde_500_final/bus_time/bus_18_0015.jpg',\n",
       "  '../kde_500_final/bus_time/bus_18_0030.jpg',\n",
       "  '../kde_500_final/bus_time/bus_18_0045.jpg',\n",
       "  '../kde_500_final/bus_time/bus_18_0115.jpg',\n",
       "  '../kde_500_final/bus_time/bus_18_0130.jpg',\n",
       "  '../kde_500_final/bus_time/bus_18_0145.jpg',\n",
       "  '../kde_500_final/bus_time/bus_18_0215.jpg',\n",
       "  '../kde_500_final/bus_time/bus_18_0230.jpg',\n",
       "  '../kde_500_final/bus_time/bus_18_0245.jpg',\n",
       "  '../kde_500_final/bus_time/bus_18_0445.jpg',\n",
       "  '../kde_500_final/bus_time/bus_18_0500.jpg',\n",
       "  '../kde_500_final/bus_time/bus_18_0515.jpg',\n",
       "  '../kde_500_final/bus_time/bus_18_0530.jpg',\n",
       "  '../kde_500_final/bus_time/bus_18_0545.jpg',\n",
       "  '../kde_500_final/bus_time/bus_18_0600.jpg',\n",
       "  '../kde_500_final/bus_time/bus_18_0615.jpg',\n",
       "  '../kde_500_final/bus_time/bus_18_0630.jpg',\n",
       "  '../kde_500_final/bus_time/bus_18_0645.jpg',\n",
       "  '../kde_500_final/bus_time/bus_18_0700.jpg',\n",
       "  '../kde_500_final/bus_time/bus_18_0715.jpg',\n",
       "  '../kde_500_final/bus_time/bus_18_0730.jpg',\n",
       "  '../kde_500_final/bus_time/bus_18_0745.jpg',\n",
       "  '../kde_500_final/bus_time/bus_18_0800.jpg',\n",
       "  '../kde_500_final/bus_time/bus_18_0815.jpg',\n",
       "  '../kde_500_final/bus_time/bus_18_0830.jpg',\n",
       "  '../kde_500_final/bus_time/bus_18_0845.jpg',\n",
       "  '../kde_500_final/bus_time/bus_18_0900.jpg',\n",
       "  '../kde_500_final/bus_time/bus_18_0915.jpg',\n",
       "  '../kde_500_final/bus_time/bus_18_0930.jpg',\n",
       "  '../kde_500_final/bus_time/bus_18_0945.jpg',\n",
       "  '../kde_500_final/bus_time/bus_18_1000.jpg',\n",
       "  '../kde_500_final/bus_time/bus_18_1015.jpg',\n",
       "  '../kde_500_final/bus_time/bus_18_1030.jpg',\n",
       "  '../kde_500_final/bus_time/bus_18_1045.jpg',\n",
       "  '../kde_500_final/bus_time/bus_18_1100.jpg',\n",
       "  '../kde_500_final/bus_time/bus_18_1115.jpg',\n",
       "  '../kde_500_final/bus_time/bus_18_1130.jpg',\n",
       "  '../kde_500_final/bus_time/bus_18_1145.jpg',\n",
       "  '../kde_500_final/bus_time/bus_18_1200.jpg',\n",
       "  '../kde_500_final/bus_time/bus_18_1215.jpg',\n",
       "  '../kde_500_final/bus_time/bus_18_1230.jpg',\n",
       "  '../kde_500_final/bus_time/bus_18_1245.jpg',\n",
       "  '../kde_500_final/bus_time/bus_18_1300.jpg',\n",
       "  '../kde_500_final/bus_time/bus_18_1315.jpg',\n",
       "  '../kde_500_final/bus_time/bus_18_1330.jpg',\n",
       "  '../kde_500_final/bus_time/bus_18_1345.jpg',\n",
       "  '../kde_500_final/bus_time/bus_18_1400.jpg',\n",
       "  '../kde_500_final/bus_time/bus_18_1415.jpg',\n",
       "  '../kde_500_final/bus_time/bus_18_1430.jpg',\n",
       "  '../kde_500_final/bus_time/bus_18_1445.jpg',\n",
       "  '../kde_500_final/bus_time/bus_18_1500.jpg',\n",
       "  '../kde_500_final/bus_time/bus_18_1515.jpg',\n",
       "  '../kde_500_final/bus_time/bus_18_1530.jpg',\n",
       "  '../kde_500_final/bus_time/bus_18_1545.jpg',\n",
       "  '../kde_500_final/bus_time/bus_18_1600.jpg',\n",
       "  '../kde_500_final/bus_time/bus_18_1615.jpg',\n",
       "  '../kde_500_final/bus_time/bus_18_1630.jpg',\n",
       "  '../kde_500_final/bus_time/bus_18_1645.jpg',\n",
       "  '../kde_500_final/bus_time/bus_18_1700.jpg',\n",
       "  '../kde_500_final/bus_time/bus_18_1715.jpg',\n",
       "  '../kde_500_final/bus_time/bus_18_1730.jpg',\n",
       "  '../kde_500_final/bus_time/bus_18_1745.jpg',\n",
       "  '../kde_500_final/bus_time/bus_18_1800.jpg',\n",
       "  '../kde_500_final/bus_time/bus_18_1815.jpg',\n",
       "  '../kde_500_final/bus_time/bus_18_1830.jpg',\n",
       "  '../kde_500_final/bus_time/bus_18_1845.jpg',\n",
       "  '../kde_500_final/bus_time/bus_18_1900.jpg',\n",
       "  '../kde_500_final/bus_time/bus_18_1915.jpg',\n",
       "  '../kde_500_final/bus_time/bus_18_1930.jpg',\n",
       "  '../kde_500_final/bus_time/bus_18_1945.jpg',\n",
       "  '../kde_500_final/bus_time/bus_18_2000.jpg',\n",
       "  '../kde_500_final/bus_time/bus_18_2015.jpg',\n",
       "  '../kde_500_final/bus_time/bus_18_2030.jpg',\n",
       "  '../kde_500_final/bus_time/bus_18_2045.jpg',\n",
       "  '../kde_500_final/bus_time/bus_18_2100.jpg',\n",
       "  '../kde_500_final/bus_time/bus_18_2115.jpg',\n",
       "  '../kde_500_final/bus_time/bus_18_2130.jpg',\n",
       "  '../kde_500_final/bus_time/bus_18_2145.jpg',\n",
       "  '../kde_500_final/bus_time/bus_18_2200.jpg',\n",
       "  '../kde_500_final/bus_time/bus_18_2215.jpg',\n",
       "  '../kde_500_final/bus_time/bus_18_2230.jpg',\n",
       "  '../kde_500_final/bus_time/bus_18_2245.jpg',\n",
       "  '../kde_500_final/bus_time/bus_18_2300.jpg',\n",
       "  '../kde_500_final/bus_time/bus_18_2315.jpg',\n",
       "  '../kde_500_final/bus_time/bus_18_2330.jpg',\n",
       "  '../kde_500_final/bus_time/bus_18_2345.jpg'],\n",
       " 19: ['../kde_500_final/bus_time/bus_19_0000.jpg',\n",
       "  '../kde_500_final/bus_time/bus_19_0015.jpg',\n",
       "  '../kde_500_final/bus_time/bus_19_0030.jpg',\n",
       "  '../kde_500_final/bus_time/bus_19_0045.jpg',\n",
       "  '../kde_500_final/bus_time/bus_19_0115.jpg',\n",
       "  '../kde_500_final/bus_time/bus_19_0130.jpg',\n",
       "  '../kde_500_final/bus_time/bus_19_0145.jpg',\n",
       "  '../kde_500_final/bus_time/bus_19_0215.jpg',\n",
       "  '../kde_500_final/bus_time/bus_19_0230.jpg',\n",
       "  '../kde_500_final/bus_time/bus_19_0245.jpg',\n",
       "  '../kde_500_final/bus_time/bus_19_1000.jpg',\n",
       "  '../kde_500_final/bus_time/bus_19_2000.jpg']}"
      ]
     },
     "execution_count": 17,
     "metadata": {},
     "output_type": "execute_result"
    }
   ],
   "source": [
    "day_bus_files"
   ]
  },
  {
   "cell_type": "code",
   "execution_count": null,
   "metadata": {
    "collapsed": false
   },
   "outputs": [],
   "source": [
    "taxi_filenames[0][32:]"
   ]
  },
  {
   "cell_type": "code",
   "execution_count": null,
   "metadata": {
    "collapsed": false
   },
   "outputs": [],
   "source": [
    "day_taxi_files =  everyday_file_dict(taxi_filenames,32)"
   ]
  },
  {
   "cell_type": "code",
   "execution_count": 18,
   "metadata": {
    "collapsed": true
   },
   "outputs": [],
   "source": [
    "def copy_file_to_directory(file_dict,directory):\n",
    "    \n",
    "    for key,value in file_dict.iteritems():\n",
    "        to_dir = directory+str(key)\n",
    "        os.makedirs(to_dir)\n",
    "\n",
    "        for i in value:\n",
    "            shutil.copy(i,to_dir)\n"
   ]
  },
  {
   "cell_type": "code",
   "execution_count": 21,
   "metadata": {
    "collapsed": false
   },
   "outputs": [],
   "source": [
    "copy_file_to_directory(day_bus_files,\"../kde_500_final/bus_all_days/\")"
   ]
  },
  {
   "cell_type": "code",
   "execution_count": 20,
   "metadata": {
    "collapsed": false
   },
   "outputs": [
    {
     "ename": "NameError",
     "evalue": "name 'day_taxi_files' is not defined",
     "output_type": "error",
     "traceback": [
      "\u001b[0;31m---------------------------------------------------------------------------\u001b[0m",
      "\u001b[0;31mNameError\u001b[0m                                 Traceback (most recent call last)",
      "\u001b[0;32m<ipython-input-20-a4e39e0b9989>\u001b[0m in \u001b[0;36m<module>\u001b[0;34m()\u001b[0m\n\u001b[0;32m----> 1\u001b[0;31m \u001b[0mcopy_file_to_directory\u001b[0m\u001b[0;34m(\u001b[0m\u001b[0mday_taxi_files\u001b[0m\u001b[0;34m,\u001b[0m\u001b[0;34m\"../kde_500_final/taxi_all_days/\"\u001b[0m\u001b[0;34m)\u001b[0m\u001b[0;34m\u001b[0m\u001b[0m\n\u001b[0m",
      "\u001b[0;31mNameError\u001b[0m: name 'day_taxi_files' is not defined"
     ]
    }
   ],
   "source": [
    "copy_file_to_directory(day_taxi_files,\"../kde_500_final/taxi_all_days/\")"
   ]
  },
  {
   "cell_type": "code",
   "execution_count": 22,
   "metadata": {
    "collapsed": true
   },
   "outputs": [],
   "source": [
    "def change_file_names(file_list,type_of_file):\n",
    "    file_list.sort()\n",
    "    \n",
    "    for index,i in enumerate(file_list):\n",
    "        last =  i.rfind(\"/\")+1\n",
    "        new_file_name = i[:last]+type_of_file+\"%03d\" % (index,)+\".jpg\"\n",
    "        os.rename(i,new_file_name)\n"
   ]
  },
  {
   "cell_type": "code",
   "execution_count": 23,
   "metadata": {
    "collapsed": false
   },
   "outputs": [],
   "source": [
    "change_file_names(glob.glob(\"../kde_500_final/bus_all_days/14/*\"),\"bus_file_14_\")\n",
    "change_file_names(glob.glob(\"../kde_500_final/bus_all_days/15/*\"),\"bus_file_15_\")\n",
    "change_file_names(glob.glob(\"../kde_500_final/bus_all_days/16/*\"),\"bus_file_16_\")\n",
    "change_file_names(glob.glob(\"../kde_500_final/bus_all_days/17/*\"),\"bus_file_17_\")\n",
    "change_file_names(glob.glob(\"../kde_500_final/bus_all_days/18/*\"),\"bus_file_18_\")\n",
    "change_file_names(glob.glob(\"../kde_500_final/bus_all_days/19/*\"),\"bus_file_19_\")"
   ]
  },
  {
   "cell_type": "code",
   "execution_count": null,
   "metadata": {
    "collapsed": true
   },
   "outputs": [],
   "source": [
    "change_file_names(glob.glob(\"../kde_500_final/taxi_all_days/14/*\"),\"taxi_file_14_\")\n",
    "change_file_names(glob.glob(\"../kde_500_final/taxi_all_days/15/*\"),\"taxi_file_15_\")\n",
    "change_file_names(glob.glob(\"../kde_500_final/taxi_all_days/16/*\"),\"taxi_file_16_\")\n",
    "change_file_names(glob.glob(\"../kde_500_final/taxi_all_days/17/*\"),\"taxi_file_17_\")\n",
    "change_file_names(glob.glob(\"../kde_500_final/taxi_all_days/18/*\"),\"taxi_file_18_\")\n",
    "change_file_names(glob.glob(\"../kde_500_final/taxi_all_days/19/*\"),\"taxi_file_19_\")"
   ]
  },
  {
   "cell_type": "code",
   "execution_count": 24,
   "metadata": {
    "collapsed": true
   },
   "outputs": [],
   "source": [
    "change_file_names(glob.glob(\"../kde_500_final/bus_time/*\"),\"bus_file_\")\n",
    "# change_file_names(glob.glob(\"../kde_500_final/taxi_time/*\"),\"taxi_file_\")"
   ]
  },
  {
   "cell_type": "code",
   "execution_count": 8,
   "metadata": {
    "collapsed": true
   },
   "outputs": [],
   "source": [
    "font = ImageFont.truetype(\"./notomono-regular.ttf\", 24)\n",
    "\n",
    "def write_on_image(file_list,new_kde_path,date_index,file_stamp_index):\n",
    "    \n",
    "    file_list.sort()\n",
    "    \n",
    "    for index,i in enumerate(file_list):\n",
    "        date_and_time =  i[date_index:]\n",
    "        date_and_time =  date_and_time.split(\"_\")\n",
    "        date = \"03/\"+date_and_time[0]+\"/2017\"\n",
    "        time =  date_and_time[1][:2]+\":\"+date_and_time[1][2:4]+\" hrs\"\n",
    "        time_stamp = date+\" \"+time\n",
    "        img = Image.open(i)\n",
    "        draw = ImageDraw.Draw(img)\n",
    "        draw.text((0, 0),time_stamp,(255),font=font)\n",
    "        img.save(new_kde_path+i[file_stamp_index:])\n",
    "        ts.sleep(0.2)"
   ]
  },
  {
   "cell_type": "code",
   "execution_count": 11,
   "metadata": {
    "collapsed": false
   },
   "outputs": [],
   "source": [
    "write_on_image([\"./images/bus_14_2015.jpg\"],\"./images/\",13,9)"
   ]
  },
  {
   "cell_type": "code",
   "execution_count": 4,
   "metadata": {
    "collapsed": false
   },
   "outputs": [
    {
     "data": {
      "text/plain": [
       "'bus_14_2015.jpg'"
      ]
     },
     "execution_count": 4,
     "metadata": {},
     "output_type": "execute_result"
    }
   ],
   "source": []
  }
 ],
 "metadata": {
  "anaconda-cloud": {},
  "kernelspec": {
   "display_name": "Python [default]",
   "language": "python",
   "name": "python2"
  },
  "language_info": {
   "codemirror_mode": {
    "name": "ipython",
    "version": 2
   },
   "file_extension": ".py",
   "mimetype": "text/x-python",
   "name": "python",
   "nbconvert_exporter": "python",
   "pygments_lexer": "ipython2",
   "version": "2.7.12"
  }
 },
 "nbformat": 4,
 "nbformat_minor": 1
}
