{
 "cells": [
  {
   "cell_type": "code",
   "execution_count": 1,
   "metadata": {
    "collapsed": false
   },
   "outputs": [
    {
     "data": {
      "text/plain": [
       "u'/home/bks4line/Documents/LTA/Analysis'"
      ]
     },
     "execution_count": 1,
     "metadata": {},
     "output_type": "execute_result"
    }
   ],
   "source": [
    "%pwd"
   ]
  },
  {
   "cell_type": "code",
   "execution_count": 2,
   "metadata": {
    "collapsed": false
   },
   "outputs": [
    {
     "name": "stdout",
     "output_type": "stream",
     "text": [
      "/home/bks4line/Documents/LTA/Analysis/Test\n"
     ]
    }
   ],
   "source": [
    "%cd Test"
   ]
  },
  {
   "cell_type": "code",
   "execution_count": 3,
   "metadata": {
    "collapsed": false
   },
   "outputs": [],
   "source": [
    "path = %pwd"
   ]
  },
  {
   "cell_type": "code",
   "execution_count": 4,
   "metadata": {
    "collapsed": true
   },
   "outputs": [],
   "source": [
    "import pandas as pd"
   ]
  },
  {
   "cell_type": "code",
   "execution_count": 5,
   "metadata": {
    "collapsed": false
   },
   "outputs": [],
   "source": [
    "import glob\n",
    "all_files =  glob.glob(path+'/*')"
   ]
  },
  {
   "cell_type": "code",
   "execution_count": 6,
   "metadata": {
    "collapsed": false
   },
   "outputs": [],
   "source": [
    "all_files.sort()"
   ]
  },
  {
   "cell_type": "code",
   "execution_count": 8,
   "metadata": {
    "collapsed": false
   },
   "outputs": [
    {
     "data": {
      "text/plain": [
       "172"
      ]
     },
     "execution_count": 8,
     "metadata": {},
     "output_type": "execute_result"
    }
   ],
   "source": [
    "len(all_files)"
   ]
  },
  {
   "cell_type": "code",
   "execution_count": 9,
   "metadata": {
    "collapsed": false
   },
   "outputs": [],
   "source": [
    "prev_time_stamp = all_files[0][48:67] \n",
    "#  57:76"
   ]
  },
  {
   "cell_type": "code",
   "execution_count": 10,
   "metadata": {
    "collapsed": false
   },
   "outputs": [
    {
     "data": {
      "text/plain": [
       "u'2017-03-14_01:54:09'"
      ]
     },
     "execution_count": 10,
     "metadata": {},
     "output_type": "execute_result"
    }
   ],
   "source": [
    "prev_time_stamp"
   ]
  },
  {
   "cell_type": "code",
   "execution_count": 11,
   "metadata": {
    "collapsed": false
   },
   "outputs": [],
   "source": [
    "prev_date = pd.to_datetime(prev_time_stamp,format='%Y-%m-%d_%H:%M:%S').day"
   ]
  },
  {
   "cell_type": "code",
   "execution_count": 12,
   "metadata": {
    "collapsed": true
   },
   "outputs": [],
   "source": [
    "current_day_df =  pd.DataFrame()"
   ]
  },
  {
   "cell_type": "code",
   "execution_count": 13,
   "metadata": {
    "collapsed": false
   },
   "outputs": [
    {
     "name": "stderr",
     "output_type": "stream",
     "text": [
      "/home/bks4line/anaconda2/lib/python2.7/site-packages/IPython/core/interactiveshell.py:2717: DtypeWarning: Columns (1) have mixed types. Specify dtype option on import or set low_memory=False.\n",
      "  interactivity=interactivity, compiler=compiler, result=result)\n",
      "/home/bks4line/anaconda2/lib/python2.7/site-packages/IPython/core/interactiveshell.py:2717: DtypeWarning: Columns (0,1,2) have mixed types. Specify dtype option on import or set low_memory=False.\n",
      "  interactivity=interactivity, compiler=compiler, result=result)\n",
      "/home/bks4line/anaconda2/lib/python2.7/site-packages/IPython/core/interactiveshell.py:2717: DtypeWarning: Columns (1,2) have mixed types. Specify dtype option on import or set low_memory=False.\n",
      "  interactivity=interactivity, compiler=compiler, result=result)\n"
     ]
    },
    {
     "name": "stdout",
     "output_type": "stream",
     "text": [
      "15 14\n",
      "16 15\n",
      "17 16\n",
      "18 17\n",
      "19 18\n"
     ]
    }
   ],
   "source": [
    "for i in all_files:\n",
    "    curr_time_stamp = i[48:67]\n",
    "    curr_date = pd.to_datetime(curr_time_stamp,format='%Y-%m-%d_%H:%M:%S').day\n",
    "#     if prev day same as current date. concatenate to existing dataframe\n",
    "    current_csv = pd.read_csv(i)\n",
    "    current_csv.date = pd.to_datetime(current_csv.date,format='%Y-%m-%d',errors='coerce')\n",
    "    current_csv = current_csv[~current_csv.date.isnull()]\n",
    "    \n",
    "    if curr_date==prev_date:\n",
    "#         check for unique dates\n",
    "        unique_dates = list(current_csv.date.dt.day.unique())\n",
    "        if len(unique_dates)!=1:\n",
    "            current_day_csv = current_csv[current_csv.date.dt.day == unique_dates[0]]\n",
    "            next_day_csv = current_csv[current_csv.date.dt.day == unique_dates[1]]\n",
    "            current_day_df = pd.concat([current_day_df,current_day_csv])\n",
    "        else:\n",
    "            current_day_df = pd.concat([current_day_df,current_csv])\n",
    "            \n",
    "#     we should have 2 dfs here\n",
    "#  current_day and next_day\n",
    "    else:\n",
    "        print curr_date,prev_date\n",
    "#         check if prev day is there in current_csv\n",
    "        yesterday_df = current_csv[current_csv.date.dt.day==prev_date]\n",
    "        if not yesterday_df.empty:\n",
    "            current_day_df = pd.concat([current_day_df,yesterday_df])\n",
    "        file_name =  '/home/bks4line/Documents/LTA/Analysis/output/taxi_report_'+str(prev_date)+'.csv'\n",
    "        current_day_df.to_csv(file_name)\n",
    "        if not next_day_csv.empty:\n",
    "            current_day_df = pd.DataFrame()\n",
    "            current_day_df = pd.concat([current_day_df,next_day_csv])\n",
    "            current_day_df = pd.concat([current_day_df,current_csv[current_csv.date.dt.day==curr_date]])\n",
    "        else:\n",
    "            current_day_df = current_csv[current_csv.date.dt.day==curr_date]\n",
    "        prev_date = curr_date"
   ]
  },
  {
   "cell_type": "code",
   "execution_count": 14,
   "metadata": {
    "collapsed": false
   },
   "outputs": [],
   "source": [
    "file_name =  '/home/bks4line/Documents/LTA/Analysis/output/taxi_report_'+str(prev_date)+'.csv'\n",
    "current_day_df.to_csv(file_name)"
   ]
  },
  {
   "cell_type": "code",
   "execution_count": null,
   "metadata": {
    "collapsed": false
   },
   "outputs": [],
   "source": []
  },
  {
   "cell_type": "code",
   "execution_count": null,
   "metadata": {
    "collapsed": false
   },
   "outputs": [],
   "source": [
    "len(current_day_df)"
   ]
  },
  {
   "cell_type": "code",
   "execution_count": null,
   "metadata": {
    "collapsed": true
   },
   "outputs": [],
   "source": []
  },
  {
   "cell_type": "code",
   "execution_count": null,
   "metadata": {
    "collapsed": false
   },
   "outputs": [],
   "source": [
    "len('/home/bks4line/Documents/LTA/Analysis/taxi_data_viz/taxi_2017-03-14_01:54:09.csv')"
   ]
  },
  {
   "cell_type": "code",
   "execution_count": null,
   "metadata": {
    "collapsed": true
   },
   "outputs": [],
   "source": [
    "def group_df_by_hours(pandas_df):\n",
    "    \n",
    "#     1. change the index to time stamp\n",
    "#     2. group by hours\n",
    "#     3. return grouped df\n",
    "#     pandas_df.time = pd.to_datetime(pandas_df.time)\n",
    "    pandas_df['hour'] = pd.to_datetime(pandas_df['time'], format='%H:%M:%S', errors='coerce').dt.hour\n",
    "    \n",
    "    hour_count = pd.DataFrame({'taxi_api_count' : pandas_df.groupby(pandas_df.hour).size()}).reset_index()\n",
    "    return hour_count"
   ]
  },
  {
   "cell_type": "code",
   "execution_count": null,
   "metadata": {
    "collapsed": false
   },
   "outputs": [],
   "source": [
    "#  read each file, change index to timestamp, group by column and create to new dataframe.\n",
    "#  append\n",
    "\n",
    "\n",
    "hourly_grouped_df =  pd.DataFrame()\n",
    "for file in all_files:\n",
    "    if hourly_grouped_df.empty:\n",
    "        hourly_grouped_df = group_df_by_hours(pd.read_csv(file))\n",
    "    else:\n",
    "#         print \"not empty \"\n",
    "        hourly_grouped_df = pd.concat([hourly_grouped_df,group_df_by_hours(pd.read_csv(file))])\n",
    "    \n",
    "    "
   ]
  },
  {
   "cell_type": "code",
   "execution_count": null,
   "metadata": {
    "collapsed": false
   },
   "outputs": [],
   "source": [
    "hourly_grouped_df.head()"
   ]
  },
  {
   "cell_type": "code",
   "execution_count": null,
   "metadata": {
    "collapsed": false
   },
   "outputs": [],
   "source": [
    "hourly_grouped_df = hourly_grouped_df.sort(['hour','taxi_api_count'], ascending=[1,1])"
   ]
  },
  {
   "cell_type": "code",
   "execution_count": null,
   "metadata": {
    "collapsed": false
   },
   "outputs": [],
   "source": [
    "hourly_grouped_df.head()"
   ]
  },
  {
   "cell_type": "code",
   "execution_count": null,
   "metadata": {
    "collapsed": false
   },
   "outputs": [],
   "source": [
    "final_list = []\n",
    "for i in range(24):\n",
    "    sample = hourly_grouped_df[hourly_grouped_df['hour']==i]['taxi_api_count']\n",
    "    final_list.append([sample.sum(),sample.std()])"
   ]
  },
  {
   "cell_type": "code",
   "execution_count": null,
   "metadata": {
    "collapsed": false
   },
   "outputs": [],
   "source": [
    "means,stds = zip(*final_list)"
   ]
  },
  {
   "cell_type": "code",
   "execution_count": null,
   "metadata": {
    "collapsed": true
   },
   "outputs": [],
   "source": [
    "c"
   ]
  },
  {
   "cell_type": "code",
   "execution_count": null,
   "metadata": {
    "collapsed": true
   },
   "outputs": [],
   "source": [
    "import plotly.plotly as py\n",
    "import plotly.graph_objs as go\n",
    "\n",
    "\n",
    "# def create_trace(list_group, list_group_id):\n",
    "#     trace = go.Box(\n",
    "#         y=list_group,\n",
    "#         name = str(list_group_id),\n",
    "#         marker = dict(\n",
    "#         color = 'rgb(10, 140, 208)'))\n",
    "#     return trace"
   ]
  },
  {
   "cell_type": "code",
   "execution_count": null,
   "metadata": {
    "collapsed": false
   },
   "outputs": [],
   "source": [
    "# trace_list = []\n",
    "# for index,value in enumerate(final_list):\n",
    "#     trace_list.append(create_trace(value,index))\n",
    "\n",
    "# py.iplot(trace_list)"
   ]
  },
  {
   "cell_type": "code",
   "execution_count": null,
   "metadata": {
    "collapsed": true
   },
   "outputs": [],
   "source": [
    "data = [\n",
    "    go.Scatter(\n",
    "        x=[i for i in range(24)],\n",
    "        y=means,\n",
    "        error_y=dict(\n",
    "            type='data',\n",
    "            array=stds,\n",
    "            visible=True\n",
    "        )\n",
    "    )\n",
    "]"
   ]
  },
  {
   "cell_type": "code",
   "execution_count": null,
   "metadata": {
    "collapsed": false
   },
   "outputs": [],
   "source": [
    "py.iplot(data)"
   ]
  },
  {
   "cell_type": "code",
   "execution_count": null,
   "metadata": {
    "collapsed": false
   },
   "outputs": [],
   "source": [
    "import matplotlib.pyplot\n",
    "%matplotlib inline\n",
    "hourly_grouped_df.groupby(hourly_grouped_df.hour).mean().plot()"
   ]
  }
 ],
 "metadata": {
  "anaconda-cloud": {},
  "kernelspec": {
   "display_name": "Python [default]",
   "language": "python",
   "name": "python2"
  },
  "language_info": {
   "codemirror_mode": {
    "name": "ipython",
    "version": 2
   },
   "file_extension": ".py",
   "mimetype": "text/x-python",
   "name": "python",
   "nbconvert_exporter": "python",
   "pygments_lexer": "ipython2",
   "version": "2.7.12"
  }
 },
 "nbformat": 4,
 "nbformat_minor": 1
}
