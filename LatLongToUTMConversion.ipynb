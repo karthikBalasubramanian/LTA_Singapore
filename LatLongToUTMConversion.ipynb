{
 "cells": [
  {
   "cell_type": "code",
   "execution_count": 2,
   "metadata": {
    "collapsed": true
   },
   "outputs": [],
   "source": [
    "import pandas as pd"
   ]
  },
  {
   "cell_type": "code",
   "execution_count": 3,
   "metadata": {
    "collapsed": false
   },
   "outputs": [
    {
     "name": "stdout",
     "output_type": "stream",
     "text": [
      "15687 Project .ipynb             filter_test.shp\r\n",
      "airport.dbf                      filter_test.shx\r\n",
      "airport.prj                      \u001b[0m\u001b[01;34mimages\u001b[0m/\r\n",
      "airport.qpj                      kernel_KDD2014.pdf\r\n",
      "airport.shp                      LatLongToUTMConversion.ipynb\r\n",
      "airport.shx                      LatLong_UTM.ipynb\r\n",
      "bus_20170219_114016.csv          README.md\r\n",
      "\u001b[01;32mbus_stop_service_collection.py\u001b[0m*  \u001b[01;34mstatic\u001b[0m/\r\n",
      "\u001b[01;32mdata_collection.py\u001b[0m*              Taxi Availability based on Time.ipynb\r\n",
      "filter points.ipynb              TaxiKDE.ipynb\r\n",
      "filter_test.cpg                  weekday.csv\r\n",
      "filter_test.dbf                  weekend.csv\r\n"
     ]
    }
   ],
   "source": [
    "%ls"
   ]
  },
  {
   "cell_type": "code",
   "execution_count": 4,
   "metadata": {
    "collapsed": false
   },
   "outputs": [],
   "source": [
    "# Data files location\n",
    "import glob\n",
    "file_list = glob.glob(\"../Analysis/output/*.csv\")"
   ]
  },
  {
   "cell_type": "code",
   "execution_count": 5,
   "metadata": {
    "collapsed": false
   },
   "outputs": [
    {
     "name": "stdout",
     "output_type": "stream",
     "text": [
      "['../Analysis/output/taxi_report_18.csv', '../Analysis/output/taxi_report_19.csv', '../Analysis/output/taxi_report_16.csv', '../Analysis/output/taxi_report_15.csv', '../Analysis/output/taxi_report_17.csv', '../Analysis/output/taxi_report_14.csv']\n"
     ]
    }
   ],
   "source": [
    "print file_list"
   ]
  },
  {
   "cell_type": "code",
   "execution_count": 6,
   "metadata": {
    "collapsed": true
   },
   "outputs": [],
   "source": [
    "from geopandas import GeoDataFrame\n",
    "from shapely.geometry import Point\n",
    "    "
   ]
  },
  {
   "cell_type": "code",
   "execution_count": 18,
   "metadata": {
    "collapsed": false
   },
   "outputs": [
    {
     "data": {
      "text/plain": [
       "'taxi_report_18_geo_df.csv'"
      ]
     },
     "execution_count": 18,
     "metadata": {},
     "output_type": "execute_result"
    }
   ],
   "source": [
    "sample = file_list[0].split(\"/\")[-1]\n",
    "sample = sample.split(\".\")[0]+\"_geo_df.csv\"\n",
    "sample"
   ]
  },
  {
   "cell_type": "code",
   "execution_count": null,
   "metadata": {
    "collapsed": false
   },
   "outputs": [],
   "source": [
    "for each_file in file_list:\n",
    "    df =  pd.read_csv(each_file,low_memory=False)\n",
    "    new_file_name = each_file.split(\"/\")[-1]\n",
    "    new_file_name = new_file_name.split(\".\")[0]+\"_geo_df.csv\"\n",
    "    latlonglist = zip(df.ix[:,\"Longitude\"],df.ix[:,'Latitude'])\n",
    "    geometry = [Point(xy) for xy in latlonglist]\n",
    "    df = df.drop(['Latitude', 'Longitude','Unnamed: 0','Unnamed: 0.1'], axis=1)\n",
    "    crs = {'init': 'epsg:4326'}\n",
    "    geo_df = GeoDataFrame(df, crs=crs, geometry=geometry)\n",
    "    geo_utm_df = geo_df.to_crs(epsg=32648)\n",
    "    geo_utm_df.to_csv(new_file_name)\n",
    "    "
   ]
  },
  {
   "cell_type": "code",
   "execution_count": 7,
   "metadata": {
    "collapsed": true
   },
   "outputs": [],
   "source": [
    "df = pd.read_csv(file_list[0])"
   ]
  },
  {
   "cell_type": "code",
   "execution_count": 8,
   "metadata": {
    "collapsed": false
   },
   "outputs": [
    {
     "data": {
      "text/html": [
       "<div>\n",
       "<table border=\"1\" class=\"dataframe\">\n",
       "  <thead>\n",
       "    <tr style=\"text-align: right;\">\n",
       "      <th></th>\n",
       "      <th>Unnamed: 0</th>\n",
       "      <th>Unnamed: 0.1</th>\n",
       "      <th>Latitude</th>\n",
       "      <th>Longitude</th>\n",
       "      <th>date</th>\n",
       "      <th>time</th>\n",
       "    </tr>\n",
       "  </thead>\n",
       "  <tbody>\n",
       "    <tr>\n",
       "      <th>0</th>\n",
       "      <td>230061</td>\n",
       "      <td>0</td>\n",
       "      <td>1.34180</td>\n",
       "      <td>103.98185</td>\n",
       "      <td>2017-03-18</td>\n",
       "      <td>00:00:31</td>\n",
       "    </tr>\n",
       "    <tr>\n",
       "      <th>1</th>\n",
       "      <td>230062</td>\n",
       "      <td>1</td>\n",
       "      <td>1.39622</td>\n",
       "      <td>103.90315</td>\n",
       "      <td>2017-03-18</td>\n",
       "      <td>00:00:31</td>\n",
       "    </tr>\n",
       "    <tr>\n",
       "      <th>2</th>\n",
       "      <td>230063</td>\n",
       "      <td>2</td>\n",
       "      <td>1.39447</td>\n",
       "      <td>103.83317</td>\n",
       "      <td>2017-03-18</td>\n",
       "      <td>00:00:31</td>\n",
       "    </tr>\n",
       "    <tr>\n",
       "      <th>3</th>\n",
       "      <td>230064</td>\n",
       "      <td>3</td>\n",
       "      <td>1.36510</td>\n",
       "      <td>103.82994</td>\n",
       "      <td>2017-03-18</td>\n",
       "      <td>00:00:31</td>\n",
       "    </tr>\n",
       "    <tr>\n",
       "      <th>4</th>\n",
       "      <td>230065</td>\n",
       "      <td>4</td>\n",
       "      <td>1.33880</td>\n",
       "      <td>103.97596</td>\n",
       "      <td>2017-03-18</td>\n",
       "      <td>00:00:31</td>\n",
       "    </tr>\n",
       "  </tbody>\n",
       "</table>\n",
       "</div>"
      ],
      "text/plain": [
       "   Unnamed: 0  Unnamed: 0.1  Latitude  Longitude        date      time\n",
       "0      230061             0   1.34180  103.98185  2017-03-18  00:00:31\n",
       "1      230062             1   1.39622  103.90315  2017-03-18  00:00:31\n",
       "2      230063             2   1.39447  103.83317  2017-03-18  00:00:31\n",
       "3      230064             3   1.36510  103.82994  2017-03-18  00:00:31\n",
       "4      230065             4   1.33880  103.97596  2017-03-18  00:00:31"
      ]
     },
     "execution_count": 8,
     "metadata": {},
     "output_type": "execute_result"
    }
   ],
   "source": [
    "df.head()"
   ]
  },
  {
   "cell_type": "code",
   "execution_count": null,
   "metadata": {
    "collapsed": false
   },
   "outputs": [],
   "source": [
    "latlonglist = zip(df.ix[:,\"Longitude\"],df.ix[:,'Latitude'])"
   ]
  },
  {
   "cell_type": "code",
   "execution_count": null,
   "metadata": {
    "collapsed": true
   },
   "outputs": [],
   "source": [
    "df['latlong'] = []"
   ]
  },
  {
   "cell_type": "code",
   "execution_count": null,
   "metadata": {
    "collapsed": true
   },
   "outputs": [],
   "source": [
    "df.ix[:,'latlong'] = df.ix[:,'latlong'].apply(lambda x : Point(x))"
   ]
  },
  {
   "cell_type": "code",
   "execution_count": null,
   "metadata": {
    "collapsed": false
   },
   "outputs": [],
   "source": [
    "df = df.drop(['Latitude', 'Longitude'], axis=1)\n",
    "crs = {'init': 'epsg:4326'}\n",
    "geo_df = GeoDataFrame(df, crs=crs, geometry=df.ix[:,'latlong'].tolist())"
   ]
  },
  {
   "cell_type": "code",
   "execution_count": null,
   "metadata": {
    "collapsed": false
   },
   "outputs": [],
   "source": [
    "geo_df.crs"
   ]
  },
  {
   "cell_type": "code",
   "execution_count": null,
   "metadata": {
    "collapsed": false
   },
   "outputs": [],
   "source": [
    "geo_utm_df = geo_df.to_crs(epsg=32648)"
   ]
  },
  {
   "cell_type": "code",
   "execution_count": null,
   "metadata": {
    "collapsed": true
   },
   "outputs": [],
   "source": []
  }
 ],
 "metadata": {
  "anaconda-cloud": {},
  "kernelspec": {
   "display_name": "Python [default]",
   "language": "python",
   "name": "python2"
  },
  "language_info": {
   "codemirror_mode": {
    "name": "ipython",
    "version": 2
   },
   "file_extension": ".py",
   "mimetype": "text/x-python",
   "name": "python",
   "nbconvert_exporter": "python",
   "pygments_lexer": "ipython2",
   "version": "2.7.12"
  }
 },
 "nbformat": 4,
 "nbformat_minor": 1
}
