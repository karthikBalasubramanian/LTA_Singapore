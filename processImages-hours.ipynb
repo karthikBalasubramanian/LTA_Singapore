{
 "cells": [
  {
   "cell_type": "code",
   "execution_count": 1,
   "metadata": {
    "collapsed": true
   },
   "outputs": [],
   "source": [
    "import os\n",
    "import shutil\n",
    "import glob\n",
    "import time as ts\n",
    "import imageio\n",
    "from resizeimage import resizeimage\n",
    "from PIL import Image\n",
    "from PIL import ImageFont\n",
    "from PIL import ImageDraw"
   ]
  },
  {
   "cell_type": "code",
   "execution_count": 2,
   "metadata": {
    "collapsed": false
   },
   "outputs": [],
   "source": [
    "def get_bus_and_taxi_file(file_list,bus_like, taxi_like,bus_mask_index,bus_hour_mask,taxi_hour_mask):\n",
    "    bus_filenames = [i for i in filenames if bus_like in i]\n",
    "    taxi_filenames = [i for i in filenames if taxi_like in i]\n",
    "    # keep only files between 14 and 19\n",
    "    # first remove files containing 9 in bus\n",
    "    # then convert keep files only between 14 and 19\n",
    "    \n",
    "    bus_filenames = [i for i in bus_filenames if i[bus_mask_index:bus_mask_index+2]!= '9_']\n",
    "    bus_filenames =  [i for i in bus_filenames if  int(i[bus_mask_index:bus_mask_index+2]) >=14 and  int(i[bus_mask_index:bus_mask_index+2])<=19 ]\n",
    "    bus_filenames = [i for i in bus_filenames if  int(i[bus_hour_mask:bus_hour_mask+2]) >=0 and  int(i[bus_hour_mask:bus_hour_mask+2])<=5 ]\n",
    "    taxi_filenames = [i for i in taxi_filenames if  int(i[taxi_hour_mask:taxi_hour_mask+2]) >=0 and  int(i[taxi_hour_mask:taxi_hour_mask+2])<=5 ]\n",
    "    bus_filenames.sort()\n",
    "    taxi_filenames.sort()\n",
    "    \n",
    "    return bus_filenames,taxi_filenames"
   ]
  },
  {
   "cell_type": "code",
   "execution_count": 3,
   "metadata": {
    "collapsed": false
   },
   "outputs": [],
   "source": [
    "def resize_files(file_list,new_kde_path, new_height, new_width):\n",
    "    for i in file_list:\n",
    "        im = Image.open(i)\n",
    "        im_1 = im.resize((new_height,new_width))\n",
    "        file_name = i.rfind(\"/\")+1\n",
    "        fn =  new_kde_path+i[file_name:]\n",
    "        im_1.save(fn)"
   ]
  },
  {
   "cell_type": "code",
   "execution_count": 4,
   "metadata": {
    "collapsed": true
   },
   "outputs": [],
   "source": [
    "font = ImageFont.truetype(\"./notomono-regular.ttf\", 32)\n",
    "\n",
    "def write_on_image(file_list,new_kde_path,date_index,file_stamp_index):\n",
    "    \n",
    "    file_list.sort()\n",
    "    \n",
    "    for index,i in enumerate(file_list):\n",
    "        date_and_time =  i[date_index:]\n",
    "        date_and_time =  date_and_time.split(\"_\")\n",
    "        date = \"03/\"+date_and_time[0]+\"/2017\"\n",
    "        time =  date_and_time[1][:2]+\":\"+date_and_time[1][2:4]+\" hrs\"\n",
    "        time_stamp = date+\" \"+time\n",
    "        img = Image.open(i)\n",
    "        draw = ImageDraw.Draw(img)\n",
    "        draw.text((0, 0),time_stamp,(255),font=font)\n",
    "        img.save(new_kde_path+i[file_stamp_index:])\n",
    "        ts.sleep(0.2)"
   ]
  },
  {
   "cell_type": "code",
   "execution_count": null,
   "metadata": {
    "collapsed": true
   },
   "outputs": [],
   "source": []
  },
  {
   "cell_type": "code",
   "execution_count": null,
   "metadata": {
    "collapsed": true
   },
   "outputs": [],
   "source": [
    "def write_to_gif(file_list,gif_path):\n",
    "    \n",
    "    with imageio.get_writer(gif_path, mode='I') as writer:\n",
    "        for filename in file_list:\n",
    "            image = imageio.imread(filename)\n",
    "            writer.append_data(image)"
   ]
  },
  {
   "cell_type": "code",
   "execution_count": 5,
   "metadata": {
    "collapsed": true
   },
   "outputs": [],
   "source": [
    "filenames =  glob.glob(\"../kde/*\")"
   ]
  },
  {
   "cell_type": "code",
   "execution_count": null,
   "metadata": {
    "collapsed": false
   },
   "outputs": [],
   "source": [
    "\"../kde/taxi_21_0845.jpg\"[15:17]"
   ]
  },
  {
   "cell_type": "code",
   "execution_count": 6,
   "metadata": {
    "collapsed": false
   },
   "outputs": [],
   "source": [
    "bus_filenames,taxi_filenames =  get_bus_and_taxi_file(filenames,\"../kde/bus\",\"../kde/taxi\",11,14,15)"
   ]
  },
  {
   "cell_type": "code",
   "execution_count": 7,
   "metadata": {
    "collapsed": false
   },
   "outputs": [
    {
     "data": {
      "text/plain": [
       "['../kde/bus_14_0145.jpg',\n",
       " '../kde/bus_15_0000.jpg',\n",
       " '../kde/bus_15_0015.jpg',\n",
       " '../kde/bus_15_0030.jpg',\n",
       " '../kde/bus_15_0045.jpg',\n",
       " '../kde/bus_15_0115.jpg',\n",
       " '../kde/bus_15_0130.jpg',\n",
       " '../kde/bus_15_0430.jpg',\n",
       " '../kde/bus_15_0445.jpg',\n",
       " '../kde/bus_15_0500.jpg',\n",
       " '../kde/bus_15_0515.jpg',\n",
       " '../kde/bus_15_0530.jpg',\n",
       " '../kde/bus_15_0545.jpg',\n",
       " '../kde/bus_16_0000.jpg',\n",
       " '../kde/bus_16_0015.jpg',\n",
       " '../kde/bus_16_0030.jpg',\n",
       " '../kde/bus_16_0045.jpg',\n",
       " '../kde/bus_16_0115.jpg',\n",
       " '../kde/bus_16_0130.jpg',\n",
       " '../kde/bus_16_0145.jpg',\n",
       " '../kde/bus_16_0215.jpg',\n",
       " '../kde/bus_16_0230.jpg',\n",
       " '../kde/bus_16_0245.jpg',\n",
       " '../kde/bus_16_0345.jpg',\n",
       " '../kde/bus_16_0415.jpg',\n",
       " '../kde/bus_16_0430.jpg',\n",
       " '../kde/bus_16_0445.jpg',\n",
       " '../kde/bus_16_0500.jpg',\n",
       " '../kde/bus_16_0515.jpg',\n",
       " '../kde/bus_16_0530.jpg',\n",
       " '../kde/bus_16_0545.jpg',\n",
       " '../kde/bus_17_0000.jpg',\n",
       " '../kde/bus_17_0015.jpg',\n",
       " '../kde/bus_17_0030.jpg',\n",
       " '../kde/bus_17_0045.jpg',\n",
       " '../kde/bus_17_0115.jpg',\n",
       " '../kde/bus_17_0130.jpg',\n",
       " '../kde/bus_17_0145.jpg',\n",
       " '../kde/bus_17_0230.jpg',\n",
       " '../kde/bus_17_0245.jpg',\n",
       " '../kde/bus_17_0415.jpg',\n",
       " '../kde/bus_17_0430.jpg',\n",
       " '../kde/bus_17_0445.jpg',\n",
       " '../kde/bus_17_0500.jpg',\n",
       " '../kde/bus_17_0515.jpg',\n",
       " '../kde/bus_17_0530.jpg',\n",
       " '../kde/bus_17_0545.jpg',\n",
       " '../kde/bus_18_0000.jpg',\n",
       " '../kde/bus_18_0015.jpg',\n",
       " '../kde/bus_18_0030.jpg',\n",
       " '../kde/bus_18_0045.jpg',\n",
       " '../kde/bus_18_0115.jpg',\n",
       " '../kde/bus_18_0130.jpg',\n",
       " '../kde/bus_18_0145.jpg',\n",
       " '../kde/bus_18_0215.jpg',\n",
       " '../kde/bus_18_0230.jpg',\n",
       " '../kde/bus_18_0245.jpg',\n",
       " '../kde/bus_18_0445.jpg',\n",
       " '../kde/bus_18_0500.jpg',\n",
       " '../kde/bus_18_0515.jpg',\n",
       " '../kde/bus_18_0530.jpg',\n",
       " '../kde/bus_18_0545.jpg',\n",
       " '../kde/bus_19_0000.jpg',\n",
       " '../kde/bus_19_0015.jpg',\n",
       " '../kde/bus_19_0030.jpg',\n",
       " '../kde/bus_19_0045.jpg',\n",
       " '../kde/bus_19_0115.jpg',\n",
       " '../kde/bus_19_0130.jpg',\n",
       " '../kde/bus_19_0145.jpg',\n",
       " '../kde/bus_19_0215.jpg',\n",
       " '../kde/bus_19_0230.jpg',\n",
       " '../kde/bus_19_0245.jpg']"
      ]
     },
     "execution_count": 7,
     "metadata": {},
     "output_type": "execute_result"
    }
   ],
   "source": [
    "bus_filenames"
   ]
  },
  {
   "cell_type": "code",
   "execution_count": 8,
   "metadata": {
    "collapsed": false
   },
   "outputs": [],
   "source": [
    "resize_files(bus_filenames,\"../kde_500_final/peak/bus/\",952,538)"
   ]
  },
  {
   "cell_type": "code",
   "execution_count": 9,
   "metadata": {
    "collapsed": true
   },
   "outputs": [],
   "source": [
    "resize_files(taxi_filenames,\"../kde_500_final/peak/taxi/\",952,538)"
   ]
  },
  {
   "cell_type": "code",
   "execution_count": null,
   "metadata": {
    "collapsed": false
   },
   "outputs": [],
   "source": [
    "bus_filenames"
   ]
  },
  {
   "cell_type": "code",
   "execution_count": 10,
   "metadata": {
    "collapsed": true
   },
   "outputs": [],
   "source": [
    "bus_filenames = glob.glob(\"../kde_500_final/peak/bus/*\")\n",
    "taxi_filenames = glob.glob(\"../kde_500_final/peak/taxi/*\")"
   ]
  },
  {
   "cell_type": "code",
   "execution_count": null,
   "metadata": {
    "collapsed": false
   },
   "outputs": [],
   "source": [
    "taxi_filenames[0][32:]"
   ]
  },
  {
   "cell_type": "code",
   "execution_count": 11,
   "metadata": {
    "collapsed": false
   },
   "outputs": [],
   "source": [
    "write_on_image(bus_filenames,\"../kde_500_final/peak/bus_time/\",30,26)"
   ]
  },
  {
   "cell_type": "code",
   "execution_count": 12,
   "metadata": {
    "collapsed": false
   },
   "outputs": [],
   "source": [
    "write_on_image(taxi_filenames,\"../kde_500_final/peak/taxi_time/\",32,27)"
   ]
  },
  {
   "cell_type": "code",
   "execution_count": 13,
   "metadata": {
    "collapsed": true
   },
   "outputs": [],
   "source": [
    "bus_filenames = glob.glob(\"../kde_500_final/peak/bus_time/*\")"
   ]
  },
  {
   "cell_type": "code",
   "execution_count": 14,
   "metadata": {
    "collapsed": true
   },
   "outputs": [],
   "source": [
    "taxi_filenames = glob.glob(\"../kde_500_final/peak/taxi_time/*\")"
   ]
  },
  {
   "cell_type": "code",
   "execution_count": 15,
   "metadata": {
    "collapsed": true
   },
   "outputs": [],
   "source": [
    "bus_filenames.sort()\n",
    "taxi_filenames.sort()"
   ]
  },
  {
   "cell_type": "code",
   "execution_count": null,
   "metadata": {
    "collapsed": false
   },
   "outputs": [],
   "source": [
    "def everyday_file_dict(file_list,date_start):\n",
    "    day_dict = {}\n",
    "    for i in file_list:\n",
    "        day = int(i[date_start:date_start+2])\n",
    "        if(day in day_dict):\n",
    "            day_dict[day].append(i)\n",
    "        else:\n",
    "            day_dict[day] = [i]\n",
    "    return day_dict"
   ]
  },
  {
   "cell_type": "code",
   "execution_count": null,
   "metadata": {
    "collapsed": false
   },
   "outputs": [],
   "source": [
    "day_bus_files =  everyday_file_dict(bus_filenames,30)"
   ]
  },
  {
   "cell_type": "code",
   "execution_count": null,
   "metadata": {
    "collapsed": false
   },
   "outputs": [],
   "source": [
    "day_bus_files"
   ]
  },
  {
   "cell_type": "code",
   "execution_count": null,
   "metadata": {
    "collapsed": false
   },
   "outputs": [],
   "source": [
    "taxi_filenames[0][32:]"
   ]
  },
  {
   "cell_type": "code",
   "execution_count": null,
   "metadata": {
    "collapsed": false
   },
   "outputs": [],
   "source": [
    "day_taxi_files =  everyday_file_dict(taxi_filenames,32)"
   ]
  },
  {
   "cell_type": "code",
   "execution_count": null,
   "metadata": {
    "collapsed": true
   },
   "outputs": [],
   "source": [
    "def copy_file_to_directory(file_dict,directory):\n",
    "    \n",
    "    for key,value in file_dict.iteritems():\n",
    "        to_dir = directory+str(key)\n",
    "        os.makedirs(to_dir)\n",
    "\n",
    "        for i in value:\n",
    "            shutil.copy(i,to_dir)\n"
   ]
  },
  {
   "cell_type": "code",
   "execution_count": null,
   "metadata": {
    "collapsed": false
   },
   "outputs": [],
   "source": [
    "copy_file_to_directory(day_bus_files,\"../kde_500_final/bus_all_days/\")"
   ]
  },
  {
   "cell_type": "code",
   "execution_count": null,
   "metadata": {
    "collapsed": false
   },
   "outputs": [],
   "source": [
    "copy_file_to_directory(day_taxi_files,\"../kde_500_final/taxi_all_days/\")"
   ]
  },
  {
   "cell_type": "code",
   "execution_count": 16,
   "metadata": {
    "collapsed": true
   },
   "outputs": [],
   "source": [
    "def change_file_names(file_list,type_of_file):\n",
    "    file_list.sort()\n",
    "    \n",
    "    for index,i in enumerate(file_list):\n",
    "        last =  i.rfind(\"/\")+1\n",
    "        new_file_name = i[:last]+type_of_file+\"%03d\" % (index,)+\".jpg\"\n",
    "        os.rename(i,new_file_name)\n"
   ]
  },
  {
   "cell_type": "code",
   "execution_count": 17,
   "metadata": {
    "collapsed": false
   },
   "outputs": [],
   "source": [
    "change_file_names(glob.glob(\"../kde_500_final/peak/bus_time/*\"),\"bus_peak_\")\n",
    "change_file_names(glob.glob(\"../kde_500_final/peak/taxi_time/*\"),\"taxi_peak_\")\n",
    "#change_file_names(glob.glob(\"../kde_500_final/bus_all_days/16/*\"),\"bus_file_16_\")\n",
    "#change_file_names(glob.glob(\"../kde_500_final/bus_all_days/17/*\"),\"bus_file_17_\")\n",
    "#change_file_names(glob.glob(\"../kde_500_final/bus_all_days/18/*\"),\"bus_file_18_\")\n",
    "#change_file_names(glob.glob(\"../kde_500_final/bus_all_days/19/*\"),\"bus_file_19_\")"
   ]
  },
  {
   "cell_type": "code",
   "execution_count": null,
   "metadata": {
    "collapsed": true
   },
   "outputs": [],
   "source": [
    "change_file_names(glob.glob(\"../kde_500_final/taxi_all_days/14/*\"),\"taxi_file_14_\")\n",
    "change_file_names(glob.glob(\"../kde_500_final/taxi_all_days/15/*\"),\"taxi_file_15_\")\n",
    "change_file_names(glob.glob(\"../kde_500_final/taxi_all_days/16/*\"),\"taxi_file_16_\")\n",
    "change_file_names(glob.glob(\"../kde_500_final/taxi_all_days/17/*\"),\"taxi_file_17_\")\n",
    "change_file_names(glob.glob(\"../kde_500_final/taxi_all_days/18/*\"),\"taxi_file_18_\")\n",
    "change_file_names(glob.glob(\"../kde_500_final/taxi_all_days/19/*\"),\"taxi_file_19_\")"
   ]
  },
  {
   "cell_type": "code",
   "execution_count": null,
   "metadata": {
    "collapsed": true
   },
   "outputs": [],
   "source": [
    "change_file_names(glob.glob(\"../kde_500_final/bus_time/*\"),\"bus_file_\")\n",
    "# change_file_names(glob.glob(\"../kde_500_final/taxi_time/*\"),\"taxi_file_\")"
   ]
  },
  {
   "cell_type": "code",
   "execution_count": null,
   "metadata": {
    "collapsed": true
   },
   "outputs": [],
   "source": [
    "font = ImageFont.truetype(\"./notomono-regular.ttf\", 24)\n",
    "\n",
    "def write_on_image(file_list,new_kde_path,date_index,file_stamp_index):\n",
    "    \n",
    "    file_list.sort()\n",
    "    \n",
    "    for index,i in enumerate(file_list):\n",
    "        date_and_time =  i[date_index:]\n",
    "        date_and_time =  date_and_time.split(\"_\")\n",
    "        date = \"03/\"+date_and_time[0]+\"/2017\"\n",
    "        time =  date_and_time[1][:2]+\":\"+date_and_time[1][2:4]+\" hrs\"\n",
    "        time_stamp = date+\" \"+time\n",
    "        img = Image.open(i)\n",
    "        draw = ImageDraw.Draw(img)\n",
    "        draw.text((0, 0),time_stamp,(255),font=font)\n",
    "        img.save(new_kde_path+i[file_stamp_index:])\n",
    "        ts.sleep(0.2)"
   ]
  },
  {
   "cell_type": "code",
   "execution_count": null,
   "metadata": {
    "collapsed": false
   },
   "outputs": [],
   "source": [
    "write_on_image([\"./images/bus_14_2015.jpg\"],\"./images/\",13,9)"
   ]
  },
  {
   "cell_type": "code",
   "execution_count": null,
   "metadata": {
    "collapsed": false
   },
   "outputs": [],
   "source": []
  }
 ],
 "metadata": {
  "anaconda-cloud": {},
  "kernelspec": {
   "display_name": "Python [default]",
   "language": "python",
   "name": "python2"
  },
  "language_info": {
   "codemirror_mode": {
    "name": "ipython",
    "version": 2
   },
   "file_extension": ".py",
   "mimetype": "text/x-python",
   "name": "python",
   "nbconvert_exporter": "python",
   "pygments_lexer": "ipython2",
   "version": "2.7.12"
  }
 },
 "nbformat": 4,
 "nbformat_minor": 1
}
