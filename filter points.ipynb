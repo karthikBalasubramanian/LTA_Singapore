{
 "cells": [
  {
   "cell_type": "code",
   "execution_count": 1,
   "metadata": {
    "collapsed": true
   },
   "outputs": [],
   "source": [
    "import geopandas as gpd \n",
    "import pandas as pd\n",
    "from shapely.geometry import *"
   ]
  },
  {
   "cell_type": "code",
   "execution_count": 47,
   "metadata": {
    "collapsed": false
   },
   "outputs": [
    {
     "data": {
      "text/html": [
       "<div>\n",
       "<table border=\"1\" class=\"dataframe\">\n",
       "  <thead>\n",
       "    <tr style=\"text-align: right;\">\n",
       "      <th></th>\n",
       "      <th>Latitude</th>\n",
       "      <th>Longitude</th>\n",
       "      <th>date</th>\n",
       "      <th>time</th>\n",
       "    </tr>\n",
       "  </thead>\n",
       "  <tbody>\n",
       "    <tr>\n",
       "      <th>0</th>\n",
       "      <td>1.44084</td>\n",
       "      <td>103.76986</td>\n",
       "      <td>2017-02-15</td>\n",
       "      <td>23:19:39</td>\n",
       "    </tr>\n",
       "    <tr>\n",
       "      <th>1</th>\n",
       "      <td>1.36905</td>\n",
       "      <td>103.84854</td>\n",
       "      <td>2017-02-15</td>\n",
       "      <td>23:19:39</td>\n",
       "    </tr>\n",
       "    <tr>\n",
       "      <th>2</th>\n",
       "      <td>1.40042</td>\n",
       "      <td>103.89351</td>\n",
       "      <td>2017-02-15</td>\n",
       "      <td>23:19:39</td>\n",
       "    </tr>\n",
       "    <tr>\n",
       "      <th>3</th>\n",
       "      <td>1.35792</td>\n",
       "      <td>103.99004</td>\n",
       "      <td>2017-02-15</td>\n",
       "      <td>23:19:39</td>\n",
       "    </tr>\n",
       "    <tr>\n",
       "      <th>4</th>\n",
       "      <td>1.30003</td>\n",
       "      <td>103.85190</td>\n",
       "      <td>2017-02-15</td>\n",
       "      <td>23:19:39</td>\n",
       "    </tr>\n",
       "  </tbody>\n",
       "</table>\n",
       "</div>"
      ],
      "text/plain": [
       "   Latitude  Longitude        date      time\n",
       "0   1.44084  103.76986  2017-02-15  23:19:39\n",
       "1   1.36905  103.84854  2017-02-15  23:19:39\n",
       "2   1.40042  103.89351  2017-02-15  23:19:39\n",
       "3   1.35792  103.99004  2017-02-15  23:19:39\n",
       "4   1.30003  103.85190  2017-02-15  23:19:39"
      ]
     },
     "execution_count": 47,
     "metadata": {},
     "output_type": "execute_result"
    }
   ],
   "source": [
    "taxi = pd.read_csv('taxi_sample.csv')\n",
    "taxi = taxi.drop('Unnamed: 0',axis=1)\n",
    "taxi.head()"
   ]
  },
  {
   "cell_type": "code",
   "execution_count": 48,
   "metadata": {
    "collapsed": false
   },
   "outputs": [],
   "source": [
    "taxi_sub = taxi[:1000]"
   ]
  },
  {
   "cell_type": "code",
   "execution_count": 20,
   "metadata": {
    "collapsed": true
   },
   "outputs": [],
   "source": [
    "airport = gpd.GeoDataFrame.from_file('airport.shp')"
   ]
  },
  {
   "cell_type": "code",
   "execution_count": 51,
   "metadata": {
    "collapsed": false
   },
   "outputs": [],
   "source": [
    "def create_geometry(df):\n",
    "    geometry_arr = df.apply(lambda x: Point(x['Longitude'], x['Latitude']), axis=1)\n",
    "    df = df.assign(geometry=geometry_arr)\n",
    "    gdf = gpd.GeoDataFrame(df)\n",
    "    return gdf"
   ]
  },
  {
   "cell_type": "code",
   "execution_count": 71,
   "metadata": {
    "collapsed": true
   },
   "outputs": [],
   "source": [
    "def filter_points(pts_gpd, poly):\n",
    "    index = pts_gpd.apply(lambda x: not poly.contains(x['geometry']), axis=1)\n",
    "    return pts_gpd.loc[index]\n",
    "    "
   ]
  },
  {
   "cell_type": "code",
   "execution_count": 77,
   "metadata": {
    "collapsed": false
   },
   "outputs": [],
   "source": [
    "test = create_geometry(taxi)"
   ]
  },
  {
   "cell_type": "code",
   "execution_count": 78,
   "metadata": {
    "collapsed": false
   },
   "outputs": [],
   "source": [
    "test2 = filter_points(test, airport['geometry'].iloc[0])"
   ]
  },
  {
   "cell_type": "code",
   "execution_count": 80,
   "metadata": {
    "collapsed": false
   },
   "outputs": [],
   "source": [
    "test2.to_file('filter_test.shp', driver='ESRI Shapefile')"
   ]
  },
  {
   "cell_type": "code",
   "execution_count": 75,
   "metadata": {
    "collapsed": false
   },
   "outputs": [
    {
     "data": {
      "text/plain": [
       "1000"
      ]
     },
     "execution_count": 75,
     "metadata": {},
     "output_type": "execute_result"
    }
   ],
   "source": [
    "len(test)"
   ]
  },
  {
   "cell_type": "code",
   "execution_count": null,
   "metadata": {
    "collapsed": true
   },
   "outputs": [],
   "source": []
  }
 ],
 "metadata": {
  "kernelspec": {
   "display_name": "Python 2",
   "language": "python",
   "name": "python2"
  },
  "language_info": {
   "codemirror_mode": {
    "name": "ipython",
    "version": 2
   },
   "file_extension": ".py",
   "mimetype": "text/x-python",
   "name": "python",
   "nbconvert_exporter": "python",
   "pygments_lexer": "ipython2",
   "version": "2.7.10"
  }
 },
 "nbformat": 4,
 "nbformat_minor": 1
}
