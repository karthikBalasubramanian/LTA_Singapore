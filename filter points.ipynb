{
 "cells": [
  {
   "cell_type": "code",
   "execution_count": 15,
   "metadata": {
    "collapsed": true
   },
   "outputs": [],
   "source": [
    "import geopandas as gpd \n",
    "import pandas as pd\n",
    "from shapely.geometry import *"
   ]
  },
  {
   "cell_type": "code",
   "execution_count": 16,
   "metadata": {
    "collapsed": false
   },
   "outputs": [],
   "source": [
    "taxi = pd.read_csv('weekend.csv')\n",
    "# taxi = taxi.drop('Unnamed: 0',axis=1)\n",
    "taxi.head()\n",
    "taxi.rename(columns={'Longitude':'Latitude','Latitude':'Longitude'},inplace=True)"
   ]
  },
  {
   "cell_type": "code",
   "execution_count": 19,
   "metadata": {
    "collapsed": false
   },
   "outputs": [],
   "source": [
    "taxi_sub = taxi"
   ]
  },
  {
   "cell_type": "code",
   "execution_count": 20,
   "metadata": {
    "collapsed": false
   },
   "outputs": [
    {
     "data": {
      "text/html": [
       "<div>\n",
       "<table border=\"1\" class=\"dataframe\">\n",
       "  <thead>\n",
       "    <tr style=\"text-align: right;\">\n",
       "      <th></th>\n",
       "      <th>Latitude</th>\n",
       "      <th>Longitude</th>\n",
       "      <th>date</th>\n",
       "      <th>time</th>\n",
       "    </tr>\n",
       "  </thead>\n",
       "  <tbody>\n",
       "    <tr>\n",
       "      <th>0</th>\n",
       "      <td>1.300540</td>\n",
       "      <td>103.80059</td>\n",
       "      <td>2017-03-17</td>\n",
       "      <td>18:58:56</td>\n",
       "    </tr>\n",
       "    <tr>\n",
       "      <th>1</th>\n",
       "      <td>1.396308</td>\n",
       "      <td>103.90990</td>\n",
       "      <td>2017-03-17</td>\n",
       "      <td>18:52:25</td>\n",
       "    </tr>\n",
       "    <tr>\n",
       "      <th>2</th>\n",
       "      <td>1.303450</td>\n",
       "      <td>103.76456</td>\n",
       "      <td>2017-03-17</td>\n",
       "      <td>18:57:08</td>\n",
       "    </tr>\n",
       "    <tr>\n",
       "      <th>3</th>\n",
       "      <td>1.358805</td>\n",
       "      <td>103.95470</td>\n",
       "      <td>2017-03-17</td>\n",
       "      <td>18:58:56</td>\n",
       "    </tr>\n",
       "    <tr>\n",
       "      <th>4</th>\n",
       "      <td>1.358830</td>\n",
       "      <td>103.98949</td>\n",
       "      <td>2017-03-17</td>\n",
       "      <td>18:54:20</td>\n",
       "    </tr>\n",
       "  </tbody>\n",
       "</table>\n",
       "</div>"
      ],
      "text/plain": [
       "   Latitude  Longitude        date      time\n",
       "0  1.300540  103.80059  2017-03-17  18:58:56\n",
       "1  1.396308  103.90990  2017-03-17  18:52:25\n",
       "2  1.303450  103.76456  2017-03-17  18:57:08\n",
       "3  1.358805  103.95470  2017-03-17  18:58:56\n",
       "4  1.358830  103.98949  2017-03-17  18:54:20"
      ]
     },
     "execution_count": 20,
     "metadata": {},
     "output_type": "execute_result"
    }
   ],
   "source": [
    "taxi_sub.head()"
   ]
  },
  {
   "cell_type": "code",
   "execution_count": null,
   "metadata": {
    "collapsed": true
   },
   "outputs": [],
   "source": []
  },
  {
   "cell_type": "code",
   "execution_count": 21,
   "metadata": {
    "collapsed": true
   },
   "outputs": [],
   "source": [
    "airport = gpd.GeoDataFrame.from_file('airport.shp')"
   ]
  },
  {
   "cell_type": "code",
   "execution_count": 22,
   "metadata": {
    "collapsed": false
   },
   "outputs": [],
   "source": [
    "def create_geometry(df):\n",
    "    geometry_arr = df.apply(lambda x: Point(x['Longitude'], x['Latitude']), axis=1)\n",
    "    df = df.assign(geometry=geometry_arr)\n",
    "    gdf = gpd.GeoDataFrame(df)\n",
    "    return gdf"
   ]
  },
  {
   "cell_type": "code",
   "execution_count": 23,
   "metadata": {
    "collapsed": true
   },
   "outputs": [],
   "source": [
    "def filter_points(pts_gpd, poly):\n",
    "    index = pts_gpd.apply(lambda x: not poly.contains(x['geometry']), axis=1)\n",
    "    return pts_gpd.loc[index]\n",
    "    "
   ]
  },
  {
   "cell_type": "code",
   "execution_count": 24,
   "metadata": {
    "collapsed": false
   },
   "outputs": [],
   "source": [
    "test = create_geometry(taxi)"
   ]
  },
  {
   "cell_type": "code",
   "execution_count": 25,
   "metadata": {
    "collapsed": false
   },
   "outputs": [],
   "source": [
    "test2 = filter_points(test, airport['geometry'].iloc[0])"
   ]
  },
  {
   "cell_type": "code",
   "execution_count": 26,
   "metadata": {
    "collapsed": false
   },
   "outputs": [],
   "source": [
    "test2.to_file('filter_test.shp', driver='ESRI Shapefile')"
   ]
  },
  {
   "cell_type": "code",
   "execution_count": 27,
   "metadata": {
    "collapsed": false
   },
   "outputs": [
    {
     "data": {
      "text/plain": [
       "4396"
      ]
     },
     "execution_count": 27,
     "metadata": {},
     "output_type": "execute_result"
    }
   ],
   "source": [
    "len(test)"
   ]
  },
  {
   "cell_type": "code",
   "execution_count": 28,
   "metadata": {
    "collapsed": false
   },
   "outputs": [
    {
     "data": {
      "text/html": [
       "<div>\n",
       "<table border=\"1\" class=\"dataframe\">\n",
       "  <thead>\n",
       "    <tr style=\"text-align: right;\">\n",
       "      <th></th>\n",
       "      <th>Latitude</th>\n",
       "      <th>Longitude</th>\n",
       "      <th>date</th>\n",
       "      <th>time</th>\n",
       "      <th>geometry</th>\n",
       "    </tr>\n",
       "  </thead>\n",
       "  <tbody>\n",
       "    <tr>\n",
       "      <th>0</th>\n",
       "      <td>1.300540</td>\n",
       "      <td>103.80059</td>\n",
       "      <td>2017-03-17</td>\n",
       "      <td>18:58:56</td>\n",
       "      <td>POINT (103.80059 1.30054)</td>\n",
       "    </tr>\n",
       "    <tr>\n",
       "      <th>1</th>\n",
       "      <td>1.396308</td>\n",
       "      <td>103.90990</td>\n",
       "      <td>2017-03-17</td>\n",
       "      <td>18:52:25</td>\n",
       "      <td>POINT (103.9099 1.396308)</td>\n",
       "    </tr>\n",
       "    <tr>\n",
       "      <th>2</th>\n",
       "      <td>1.303450</td>\n",
       "      <td>103.76456</td>\n",
       "      <td>2017-03-17</td>\n",
       "      <td>18:57:08</td>\n",
       "      <td>POINT (103.76456 1.30345)</td>\n",
       "    </tr>\n",
       "    <tr>\n",
       "      <th>3</th>\n",
       "      <td>1.358805</td>\n",
       "      <td>103.95470</td>\n",
       "      <td>2017-03-17</td>\n",
       "      <td>18:58:56</td>\n",
       "      <td>POINT (103.9547 1.358805)</td>\n",
       "    </tr>\n",
       "    <tr>\n",
       "      <th>5</th>\n",
       "      <td>1.273380</td>\n",
       "      <td>103.84810</td>\n",
       "      <td>2017-03-17</td>\n",
       "      <td>18:58:04</td>\n",
       "      <td>POINT (103.8481 1.27338)</td>\n",
       "    </tr>\n",
       "  </tbody>\n",
       "</table>\n",
       "</div>"
      ],
      "text/plain": [
       "   Latitude  Longitude        date      time                   geometry\n",
       "0  1.300540  103.80059  2017-03-17  18:58:56  POINT (103.80059 1.30054)\n",
       "1  1.396308  103.90990  2017-03-17  18:52:25  POINT (103.9099 1.396308)\n",
       "2  1.303450  103.76456  2017-03-17  18:57:08  POINT (103.76456 1.30345)\n",
       "3  1.358805  103.95470  2017-03-17  18:58:56  POINT (103.9547 1.358805)\n",
       "5  1.273380  103.84810  2017-03-17  18:58:04   POINT (103.8481 1.27338)"
      ]
     },
     "execution_count": 28,
     "metadata": {},
     "output_type": "execute_result"
    }
   ],
   "source": [
    "test2.head()"
   ]
  },
  {
   "cell_type": "code",
   "execution_count": 29,
   "metadata": {
    "collapsed": false
   },
   "outputs": [],
   "source": [
    "test2.crs={'init':'epsg:4326'}"
   ]
  },
  {
   "cell_type": "code",
   "execution_count": 30,
   "metadata": {
    "collapsed": false
   },
   "outputs": [],
   "source": [
    "geo_utm_df= test2.to_crs(epsg=32648)"
   ]
  },
  {
   "cell_type": "code",
   "execution_count": 31,
   "metadata": {
    "collapsed": true
   },
   "outputs": [],
   "source": [
    "x1 = geo_utm_df.geometry.apply(lambda p:p.x)\n",
    "x2 = geo_utm_df.geometry.apply(lambda p:p.y)"
   ]
  },
  {
   "cell_type": "code",
   "execution_count": 32,
   "metadata": {
    "collapsed": true
   },
   "outputs": [],
   "source": [
    "geo_utm_df['X']= x1\n",
    "geo_utm_df['Y']= x2"
   ]
  },
  {
   "cell_type": "code",
   "execution_count": 33,
   "metadata": {
    "collapsed": true
   },
   "outputs": [],
   "source": [
    "import seaborn as sns\n",
    "%matplotlib inline"
   ]
  },
  {
   "cell_type": "code",
   "execution_count": 34,
   "metadata": {
    "collapsed": false
   },
   "outputs": [
    {
     "data": {
      "text/plain": [
       "<seaborn.axisgrid.JointGrid at 0x7f52d1006f10>"
      ]
     },
     "execution_count": 34,
     "metadata": {},
     "output_type": "execute_result"
    },
    {
     "data": {
      "image/png": "[encoded data removed]",
      "text/plain": [
       "<matplotlib.figure.Figure at 0x7f52d1006f50>"
      ]
     },
     "metadata": {},
     "output_type": "display_data"
    }
   ],
   "source": [
    "sns.jointplot(x= geo_utm_df.X, y=geo_utm_df.Y, kind='kde')"
   ]
  }
 ],
 "metadata": {
  "anaconda-cloud": {},
  "kernelspec": {
   "display_name": "Python [default]",
   "language": "python",
   "name": "python2"
  },
  "language_info": {
   "codemirror_mode": {
    "name": "ipython",
    "version": 2
   },
   "file_extension": ".py",
   "mimetype": "text/x-python",
   "name": "python",
   "nbconvert_exporter": "python",
   "pygments_lexer": "ipython2",
   "version": "2.7.12"
  }
 },
 "nbformat": 4,
 "nbformat_minor": 1
}
